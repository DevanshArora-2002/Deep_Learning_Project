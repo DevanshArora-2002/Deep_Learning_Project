{
  "nbformat": 4,
  "nbformat_minor": 0,
  "metadata": {
    "colab": {
      "provenance": []
    },
    "kernelspec": {
      "name": "python3",
      "display_name": "Python 3"
    },
    "language_info": {
      "name": "python"
    }
  },
  "cells": [
    {
      "cell_type": "code",
      "execution_count": null,
      "metadata": {
        "id": "ylk2LzvtNPlJ"
      },
      "outputs": [],
      "source": [
        "import pandas as pd\n",
        "import numpy as np\n",
        "import matplotlib.pyplot as plt\n",
        "import os\n",
        "import cv2 "
      ]
    },
    {
      "cell_type": "code",
      "source": [
        "from google.colab import drive\n",
        "drive.mount('/content/drive')"
      ],
      "metadata": {
        "colab": {
          "base_uri": "https://localhost:8080/"
        },
        "id": "0wGqHlvnODiD",
        "outputId": "34a919e0-6317-45db-b09c-0bbd7e29f8b5"
      },
      "execution_count": null,
      "outputs": [
        {
          "output_type": "stream",
          "name": "stdout",
          "text": [
            "Drive already mounted at /content/drive; to attempt to forcibly remount, call drive.mount(\"/content/drive\", force_remount=True).\n"
          ]
        }
      ]
    },
    {
      "cell_type": "code",
      "source": [
        "folder_path = \"/content/drive/MyDrive/DL_project\"\n",
        "classes = [0,1,2,3,4]\n",
        "class_name = [\"No DR\", \"Mild\", \"Moderate\", \"Severe\", \"Proliferative DR\"]"
      ],
      "metadata": {
        "id": "x_GcO51mOkGD"
      },
      "execution_count": null,
      "outputs": []
    },
    {
      "cell_type": "markdown",
      "source": [
        "#### For Class Distribuation in Training Set"
      ],
      "metadata": {
        "id": "fii6jJINPFvr"
      }
    },
    {
      "cell_type": "code",
      "source": [
        "train_cnt = [0, 0, 0, 0, 0]\n",
        "\n",
        "for i in classes:\n",
        "    train_cnt[i] = len(os.listdir(folder_path + \"/TRAIN/TRAIN_\" + str(i)))\n",
        "\n",
        "train_cnt"
      ],
      "metadata": {
        "colab": {
          "base_uri": "https://localhost:8080/"
        },
        "id": "JiqiZdXHPM-X",
        "outputId": "9b5f8bcb-33a5-4464-e46b-63c73067e7ab"
      },
      "execution_count": null,
      "outputs": [
        {
          "output_type": "execute_result",
          "data": {
            "text/plain": [
              "[250, 52, 173, 139, 213]"
            ]
          },
          "metadata": {},
          "execution_count": 4
        }
      ]
    },
    {
      "cell_type": "code",
      "source": [
        "plt.bar(class_name, train_cnt, color ='maroon',\n",
        "        width = 0.4)\n",
        " \n",
        "plt.xlabel(\"Level of Diabeties\")\n",
        "plt.ylabel(\"No. of samples\")\n",
        "plt.title(\"Class Distribuation in Training Set\")\n",
        "plt.show()"
      ],
      "metadata": {
        "colab": {
          "base_uri": "https://localhost:8080/",
          "height": 295
        },
        "id": "MfGobQApQk6H",
        "outputId": "2d27ee56-ed4c-419d-fa1a-919b202b6922"
      },
      "execution_count": null,
      "outputs": [
        {
          "output_type": "display_data",
          "data": {
            "text/plain": [
              "<Figure size 432x288 with 1 Axes>"
            ],
            "image/png": "[encoded data removed]"
          },
          "metadata": {
            "needs_background": "light"
          }
        }
      ]
    },
    {
      "cell_type": "markdown",
      "source": [
        "#### For Class Distribuation in Test Set"
      ],
      "metadata": {
        "id": "U1oAjJmNRPxL"
      }
    },
    {
      "cell_type": "code",
      "source": [
        "test_cnt = [0, 0, 0, 0, 0]\n",
        "\n",
        "for i in classes:\n",
        "    test_cnt[i] = len(os.listdir(folder_path + \"/TEST/TEST_\" + str(i)))\n",
        "\n",
        "test_cnt"
      ],
      "metadata": {
        "colab": {
          "base_uri": "https://localhost:8080/"
        },
        "id": "HOu_-9p_RVgh",
        "outputId": "1b3cb8bb-507c-4f32-cd75-ae89f4712ef8"
      },
      "execution_count": null,
      "outputs": [
        {
          "output_type": "execute_result",
          "data": {
            "text/plain": [
              "[229, 116, 254, 54, 5]"
            ]
          },
          "metadata": {},
          "execution_count": 6
        }
      ]
    },
    {
      "cell_type": "code",
      "source": [
        "plt.bar(class_name, test_cnt, color ='navy',\n",
        "        width = 0.4)\n",
        " \n",
        "plt.xlabel(\"Level of Diabeties\")\n",
        "plt.ylabel(\"No. of samples\")\n",
        "plt.title(\"Class Distribuation in Testing Set\")\n",
        "plt.show()"
      ],
      "metadata": {
        "colab": {
          "base_uri": "https://localhost:8080/",
          "height": 295
        },
        "id": "B3QgISXZRcW9",
        "outputId": "7b5f478f-734f-47f3-a6b5-3fc4c8fb7efc"
      },
      "execution_count": null,
      "outputs": [
        {
          "output_type": "display_data",
          "data": {
            "text/plain": [
              "<Figure size 432x288 with 1 Axes>"
            ],
            "image/png": "[encoded data removed]"
          },
          "metadata": {
            "needs_background": "light"
          }
        }
      ]
    },
    {
      "cell_type": "code",
      "source": [
        "# taking all images in X and y format\n",
        "\n",
        "X_train = []\n",
        "y_train = []\n",
        "for i in classes:\n",
        "    # y_train.append(i)\n",
        "    imgs = list(os.listdir(folder_path + \"/TRAIN/TRAIN_\" + str(i)))\n",
        "    for mg in imgs:\n",
        "        X_train.append(cv2.resize(cv2.imread(folder_path+\"/TRAIN/TRAIN_\" + str(i)+\"/\"+mg), (1050, 1050)))\n",
        "        y_train.append(i)\n",
        "\n",
        "X_train = np.stack(X_train, axis=0)\n",
        "y_train = np.array(y_train)"
      ],
      "metadata": {
        "id": "G_1jbsGATmGu"
      },
      "execution_count": null,
      "outputs": []
    },
    {
      "cell_type": "code",
      "source": [
        "print(X_train.shape)\n",
        "print(y_train.shape)"
      ],
      "metadata": {
        "colab": {
          "base_uri": "https://localhost:8080/"
        },
        "id": "VFYU_L406RhG",
        "outputId": "7904de79-64bf-4a67-bff2-563cdea223bb"
      },
      "execution_count": null,
      "outputs": [
        {
          "output_type": "stream",
          "name": "stdout",
          "text": [
            "(827, 1050, 1050, 3)\n",
            "(827,)\n"
          ]
        }
      ]
    },
    {
      "cell_type": "code",
      "source": [
        "fig, axes = plt.subplots(nrows=1, ncols=3, figsize=(12, 4))\n",
        "colors = ['r', 'g', 'b']\n",
        "for i, ax in enumerate(axes.flat):\n",
        "    ax.hist(X_train[:, :, :, i].flatten(), bins=256, color=colors[i], alpha=0.5)\n",
        "    ax.set_xlim([0, 256])\n",
        "    ax.set_ylim([0, 10000])\n",
        "    ax.set_title(f\"Channel {i}\")\n",
        "plt.show()"
      ],
      "metadata": {
        "colab": {
          "base_uri": "https://localhost:8080/",
          "height": 281
        },
        "id": "8KayYd5U7LC1",
        "outputId": "af794b4b-776a-4066-c0cf-db0c66e48d14"
      },
      "execution_count": null,
      "outputs": [
        {
          "output_type": "display_data",
          "data": {
            "text/plain": [
              "<Figure size 864x288 with 3 Axes>"
            ],
            "image/png": "[encoded data removed]"
          },
          "metadata": {
            "needs_background": "light"
          }
        }
      ]
    }
  ]
}