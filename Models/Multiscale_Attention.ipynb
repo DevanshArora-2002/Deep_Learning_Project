{
  "nbformat": 4,
  "nbformat_minor": 0,
  "metadata": {
    "colab": {
      "provenance": [],
      "machine_shape": "hm"
    },
    "kernelspec": {
      "name": "python3",
      "display_name": "Python 3"
    },
    "language_info": {
      "name": "python"
    },
    "accelerator": "GPU",
    "gpuClass": "premium",
    "widgets": {
      "application/vnd.jupyter.widget-state+json": {
        "3e48581442d741428402b55327a650d6": {
          "model_module": "@jupyter-widgets/controls",
          "model_name": "HBoxModel",
          "model_module_version": "1.5.0",
          "state": {
            "_dom_classes": [],
            "_model_module": "@jupyter-widgets/controls",
            "_model_module_version": "1.5.0",
            "_model_name": "HBoxModel",
            "_view_count": null,
            "_view_module": "@jupyter-widgets/controls",
            "_view_module_version": "1.5.0",
            "_view_name": "HBoxView",
            "box_style": "",
            "children": [
              "IPY_MODEL_ff2d2ce3121f4dbcb34798113e549789",
              "IPY_MODEL_a4be8fee0c0449c4a620769248cdba49",
              "IPY_MODEL_229093b250374c06b6d29836c96be286"
            ],
            "layout": "IPY_MODEL_43c3636e5b5e416f927fd300a9e076bd"
          }
        },
        "ff2d2ce3121f4dbcb34798113e549789": {
          "model_module": "@jupyter-widgets/controls",
          "model_name": "HTMLModel",
          "model_module_version": "1.5.0",
          "state": {
            "_dom_classes": [],
            "_model_module": "@jupyter-widgets/controls",
            "_model_module_version": "1.5.0",
            "_model_name": "HTMLModel",
            "_view_count": null,
            "_view_module": "@jupyter-widgets/controls",
            "_view_module_version": "1.5.0",
            "_view_name": "HTMLView",
            "description": "",
            "description_tooltip": null,
            "layout": "IPY_MODEL_559478cbdd3f469686fbea20360d7cf5",
            "placeholder": "​",
            "style": "IPY_MODEL_e7e811094b984f1799376c764367c526",
            "value": "Downloading (…)rocessor_config.json: 100%"
          }
        },
        "a4be8fee0c0449c4a620769248cdba49": {
          "model_module": "@jupyter-widgets/controls",
          "model_name": "FloatProgressModel",
          "model_module_version": "1.5.0",
          "state": {
            "_dom_classes": [],
            "_model_module": "@jupyter-widgets/controls",
            "_model_module_version": "1.5.0",
            "_model_name": "FloatProgressModel",
            "_view_count": null,
            "_view_module": "@jupyter-widgets/controls",
            "_view_module_version": "1.5.0",
            "_view_name": "ProgressView",
            "bar_style": "success",
            "description": "",
            "description_tooltip": null,
            "layout": "IPY_MODEL_084b66f2ab114bcfb712b4a52fac3073",
            "max": 327,
            "min": 0,
            "orientation": "horizontal",
            "style": "IPY_MODEL_d0cca92ae92f4703b8c2b6f5beeb6c90",
            "value": 327
          }
        },
        "229093b250374c06b6d29836c96be286": {
          "model_module": "@jupyter-widgets/controls",
          "model_name": "HTMLModel",
          "model_module_version": "1.5.0",
          "state": {
            "_dom_classes": [],
            "_model_module": "@jupyter-widgets/controls",
            "_model_module_version": "1.5.0",
            "_model_name": "HTMLModel",
            "_view_count": null,
            "_view_module": "@jupyter-widgets/controls",
            "_view_module_version": "1.5.0",
            "_view_name": "HTMLView",
            "description": "",
            "description_tooltip": null,
            "layout": "IPY_MODEL_a04fc9a82be846f7ace321b4bb6c4715",
            "placeholder": "​",
            "style": "IPY_MODEL_0377182a2a474ba3b91452854d11e49d",
            "value": " 327/327 [00:00&lt;00:00, 17.1kB/s]"
          }
        },
        "43c3636e5b5e416f927fd300a9e076bd": {
          "model_module": "@jupyter-widgets/base",
          "model_name": "LayoutModel",
          "model_module_version": "1.2.0",
          "state": {
            "_model_module": "@jupyter-widgets/base",
            "_model_module_version": "1.2.0",
            "_model_name": "LayoutModel",
            "_view_count": null,
            "_view_module": "@jupyter-widgets/base",
            "_view_module_version": "1.2.0",
            "_view_name": "LayoutView",
            "align_content": null,
            "align_items": null,
            "align_self": null,
            "border": null,
            "bottom": null,
            "display": null,
            "flex": null,
            "flex_flow": null,
            "grid_area": null,
            "grid_auto_columns": null,
            "grid_auto_flow": null,
            "grid_auto_rows": null,
            "grid_column": null,
            "grid_gap": null,
            "grid_row": null,
            "grid_template_areas": null,
            "grid_template_columns": null,
            "grid_template_rows": null,
            "height": null,
            "justify_content": null,
            "justify_items": null,
            "left": null,
            "margin": null,
            "max_height": null,
            "max_width": null,
            "min_height": null,
            "min_width": null,
            "object_fit": null,
            "object_position": null,
            "order": null,
            "overflow": null,
            "overflow_x": null,
            "overflow_y": null,
            "padding": null,
            "right": null,
            "top": null,
            "visibility": null,
            "width": null
          }
        },
        "559478cbdd3f469686fbea20360d7cf5": {
          "model_module": "@jupyter-widgets/base",
          "model_name": "LayoutModel",
          "model_module_version": "1.2.0",
          "state": {
            "_model_module": "@jupyter-widgets/base",
            "_model_module_version": "1.2.0",
            "_model_name": "LayoutModel",
            "_view_count": null,
            "_view_module": "@jupyter-widgets/base",
            "_view_module_version": "1.2.0",
            "_view_name": "LayoutView",
            "align_content": null,
            "align_items": null,
            "align_self": null,
            "border": null,
            "bottom": null,
            "display": null,
            "flex": null,
            "flex_flow": null,
            "grid_area": null,
            "grid_auto_columns": null,
            "grid_auto_flow": null,
            "grid_auto_rows": null,
            "grid_column": null,
            "grid_gap": null,
            "grid_row": null,
            "grid_template_areas": null,
            "grid_template_columns": null,
            "grid_template_rows": null,
            "height": null,
            "justify_content": null,
            "justify_items": null,
            "left": null,
            "margin": null,
            "max_height": null,
            "max_width": null,
            "min_height": null,
            "min_width": null,
            "object_fit": null,
            "object_position": null,
            "order": null,
            "overflow": null,
            "overflow_x": null,
            "overflow_y": null,
            "padding": null,
            "right": null,
            "top": null,
            "visibility": null,
            "width": null
          }
        },
        "e7e811094b984f1799376c764367c526": {
          "model_module": "@jupyter-widgets/controls",
          "model_name": "DescriptionStyleModel",
          "model_module_version": "1.5.0",
          "state": {
            "_model_module": "@jupyter-widgets/controls",
            "_model_module_version": "1.5.0",
            "_model_name": "DescriptionStyleModel",
            "_view_count": null,
            "_view_module": "@jupyter-widgets/base",
            "_view_module_version": "1.2.0",
            "_view_name": "StyleView",
            "description_width": ""
          }
        },
        "084b66f2ab114bcfb712b4a52fac3073": {
          "model_module": "@jupyter-widgets/base",
          "model_name": "LayoutModel",
          "model_module_version": "1.2.0",
          "state": {
            "_model_module": "@jupyter-widgets/base",
            "_model_module_version": "1.2.0",
            "_model_name": "LayoutModel",
            "_view_count": null,
            "_view_module": "@jupyter-widgets/base",
            "_view_module_version": "1.2.0",
            "_view_name": "LayoutView",
            "align_content": null,
            "align_items": null,
            "align_self": null,
            "border": null,
            "bottom": null,
            "display": null,
            "flex": null,
            "flex_flow": null,
            "grid_area": null,
            "grid_auto_columns": null,
            "grid_auto_flow": null,
            "grid_auto_rows": null,
            "grid_column": null,
            "grid_gap": null,
            "grid_row": null,
            "grid_template_areas": null,
            "grid_template_columns": null,
            "grid_template_rows": null,
            "height": null,
            "justify_content": null,
            "justify_items": null,
            "left": null,
            "margin": null,
            "max_height": null,
            "max_width": null,
            "min_height": null,
            "min_width": null,
            "object_fit": null,
            "object_position": null,
            "order": null,
            "overflow": null,
            "overflow_x": null,
            "overflow_y": null,
            "padding": null,
            "right": null,
            "top": null,
            "visibility": null,
            "width": null
          }
        },
        "d0cca92ae92f4703b8c2b6f5beeb6c90": {
          "model_module": "@jupyter-widgets/controls",
          "model_name": "ProgressStyleModel",
          "model_module_version": "1.5.0",
          "state": {
            "_model_module": "@jupyter-widgets/controls",
            "_model_module_version": "1.5.0",
            "_model_name": "ProgressStyleModel",
            "_view_count": null,
            "_view_module": "@jupyter-widgets/base",
            "_view_module_version": "1.2.0",
            "_view_name": "StyleView",
            "bar_color": null,
            "description_width": ""
          }
        },
        "a04fc9a82be846f7ace321b4bb6c4715": {
          "model_module": "@jupyter-widgets/base",
          "model_name": "LayoutModel",
          "model_module_version": "1.2.0",
          "state": {
            "_model_module": "@jupyter-widgets/base",
            "_model_module_version": "1.2.0",
            "_model_name": "LayoutModel",
            "_view_count": null,
            "_view_module": "@jupyter-widgets/base",
            "_view_module_version": "1.2.0",
            "_view_name": "LayoutView",
            "align_content": null,
            "align_items": null,
            "align_self": null,
            "border": null,
            "bottom": null,
            "display": null,
            "flex": null,
            "flex_flow": null,
            "grid_area": null,
            "grid_auto_columns": null,
            "grid_auto_flow": null,
            "grid_auto_rows": null,
            "grid_column": null,
            "grid_gap": null,
            "grid_row": null,
            "grid_template_areas": null,
            "grid_template_columns": null,
            "grid_template_rows": null,
            "height": null,
            "justify_content": null,
            "justify_items": null,
            "left": null,
            "margin": null,
            "max_height": null,
            "max_width": null,
            "min_height": null,
            "min_width": null,
            "object_fit": null,
            "object_position": null,
            "order": null,
            "overflow": null,
            "overflow_x": null,
            "overflow_y": null,
            "padding": null,
            "right": null,
            "top": null,
            "visibility": null,
            "width": null
          }
        },
        "0377182a2a474ba3b91452854d11e49d": {
          "model_module": "@jupyter-widgets/controls",
          "model_name": "DescriptionStyleModel",
          "model_module_version": "1.5.0",
          "state": {
            "_model_module": "@jupyter-widgets/controls",
            "_model_module_version": "1.5.0",
            "_model_name": "DescriptionStyleModel",
            "_view_count": null,
            "_view_module": "@jupyter-widgets/base",
            "_view_module_version": "1.2.0",
            "_view_name": "StyleView",
            "description_width": ""
          }
        },
        "b0abcca315e44cd9b0646001905adb8a": {
          "model_module": "@jupyter-widgets/controls",
          "model_name": "HBoxModel",
          "model_module_version": "1.5.0",
          "state": {
            "_dom_classes": [],
            "_model_module": "@jupyter-widgets/controls",
            "_model_module_version": "1.5.0",
            "_model_name": "HBoxModel",
            "_view_count": null,
            "_view_module": "@jupyter-widgets/controls",
            "_view_module_version": "1.5.0",
            "_view_name": "HBoxView",
            "box_style": "",
            "children": [
              "IPY_MODEL_0247cdd1f97f44629e4aa8b2752afc76",
              "IPY_MODEL_4d97730d9fb045c4b0d51a1bd89ea9da",
              "IPY_MODEL_84cb1e11c8584cbba24ef314f6c3faaf"
            ],
            "layout": "IPY_MODEL_f71ae5626d31418eb816835e946ca459"
          }
        },
        "0247cdd1f97f44629e4aa8b2752afc76": {
          "model_module": "@jupyter-widgets/controls",
          "model_name": "HTMLModel",
          "model_module_version": "1.5.0",
          "state": {
            "_dom_classes": [],
            "_model_module": "@jupyter-widgets/controls",
            "_model_module_version": "1.5.0",
            "_model_name": "HTMLModel",
            "_view_count": null,
            "_view_module": "@jupyter-widgets/controls",
            "_view_module_version": "1.5.0",
            "_view_name": "HTMLView",
            "description": "",
            "description_tooltip": null,
            "layout": "IPY_MODEL_67602b4048e647fa946f93b07de5a622",
            "placeholder": "​",
            "style": "IPY_MODEL_db3e94dc95b24872b93ed888291a59ba",
            "value": "Downloading (…)lve/main/config.json: 100%"
          }
        },
        "4d97730d9fb045c4b0d51a1bd89ea9da": {
          "model_module": "@jupyter-widgets/controls",
          "model_name": "FloatProgressModel",
          "model_module_version": "1.5.0",
          "state": {
            "_dom_classes": [],
            "_model_module": "@jupyter-widgets/controls",
            "_model_module_version": "1.5.0",
            "_model_name": "FloatProgressModel",
            "_view_count": null,
            "_view_module": "@jupyter-widgets/controls",
            "_view_module_version": "1.5.0",
            "_view_name": "ProgressView",
            "bar_style": "success",
            "description": "",
            "description_tooltip": null,
            "layout": "IPY_MODEL_e54dc67d834143158e6cdb8263c21621",
            "max": 841,
            "min": 0,
            "orientation": "horizontal",
            "style": "IPY_MODEL_b11e63518f054fa7b26292153ce530c4",
            "value": 841
          }
        },
        "84cb1e11c8584cbba24ef314f6c3faaf": {
          "model_module": "@jupyter-widgets/controls",
          "model_name": "HTMLModel",
          "model_module_version": "1.5.0",
          "state": {
            "_dom_classes": [],
            "_model_module": "@jupyter-widgets/controls",
            "_model_module_version": "1.5.0",
            "_model_name": "HTMLModel",
            "_view_count": null,
            "_view_module": "@jupyter-widgets/controls",
            "_view_module_version": "1.5.0",
            "_view_name": "HTMLView",
            "description": "",
            "description_tooltip": null,
            "layout": "IPY_MODEL_768a40248bc94ecba31fb69df1e8cd9b",
            "placeholder": "​",
            "style": "IPY_MODEL_3242ca94a3384ac89d58600b40a5f0dd",
            "value": " 841/841 [00:00&lt;00:00, 62.1kB/s]"
          }
        },
        "f71ae5626d31418eb816835e946ca459": {
          "model_module": "@jupyter-widgets/base",
          "model_name": "LayoutModel",
          "model_module_version": "1.2.0",
          "state": {
            "_model_module": "@jupyter-widgets/base",
            "_model_module_version": "1.2.0",
            "_model_name": "LayoutModel",
            "_view_count": null,
            "_view_module": "@jupyter-widgets/base",
            "_view_module_version": "1.2.0",
            "_view_name": "LayoutView",
            "align_content": null,
            "align_items": null,
            "align_self": null,
            "border": null,
            "bottom": null,
            "display": null,
            "flex": null,
            "flex_flow": null,
            "grid_area": null,
            "grid_auto_columns": null,
            "grid_auto_flow": null,
            "grid_auto_rows": null,
            "grid_column": null,
            "grid_gap": null,
            "grid_row": null,
            "grid_template_areas": null,
            "grid_template_columns": null,
            "grid_template_rows": null,
            "height": null,
            "justify_content": null,
            "justify_items": null,
            "left": null,
            "margin": null,
            "max_height": null,
            "max_width": null,
            "min_height": null,
            "min_width": null,
            "object_fit": null,
            "object_position": null,
            "order": null,
            "overflow": null,
            "overflow_x": null,
            "overflow_y": null,
            "padding": null,
            "right": null,
            "top": null,
            "visibility": null,
            "width": null
          }
        },
        "67602b4048e647fa946f93b07de5a622": {
          "model_module": "@jupyter-widgets/base",
          "model_name": "LayoutModel",
          "model_module_version": "1.2.0",
          "state": {
            "_model_module": "@jupyter-widgets/base",
            "_model_module_version": "1.2.0",
            "_model_name": "LayoutModel",
            "_view_count": null,
            "_view_module": "@jupyter-widgets/base",
            "_view_module_version": "1.2.0",
            "_view_name": "LayoutView",
            "align_content": null,
            "align_items": null,
            "align_self": null,
            "border": null,
            "bottom": null,
            "display": null,
            "flex": null,
            "flex_flow": null,
            "grid_area": null,
            "grid_auto_columns": null,
            "grid_auto_flow": null,
            "grid_auto_rows": null,
            "grid_column": null,
            "grid_gap": null,
            "grid_row": null,
            "grid_template_areas": null,
            "grid_template_columns": null,
            "grid_template_rows": null,
            "height": null,
            "justify_content": null,
            "justify_items": null,
            "left": null,
            "margin": null,
            "max_height": null,
            "max_width": null,
            "min_height": null,
            "min_width": null,
            "object_fit": null,
            "object_position": null,
            "order": null,
            "overflow": null,
            "overflow_x": null,
            "overflow_y": null,
            "padding": null,
            "right": null,
            "top": null,
            "visibility": null,
            "width": null
          }
        },
        "db3e94dc95b24872b93ed888291a59ba": {
          "model_module": "@jupyter-widgets/controls",
          "model_name": "DescriptionStyleModel",
          "model_module_version": "1.5.0",
          "state": {
            "_model_module": "@jupyter-widgets/controls",
            "_model_module_version": "1.5.0",
            "_model_name": "DescriptionStyleModel",
            "_view_count": null,
            "_view_module": "@jupyter-widgets/base",
            "_view_module_version": "1.2.0",
            "_view_name": "StyleView",
            "description_width": ""
          }
        },
        "e54dc67d834143158e6cdb8263c21621": {
          "model_module": "@jupyter-widgets/base",
          "model_name": "LayoutModel",
          "model_module_version": "1.2.0",
          "state": {
            "_model_module": "@jupyter-widgets/base",
            "_model_module_version": "1.2.0",
            "_model_name": "LayoutModel",
            "_view_count": null,
            "_view_module": "@jupyter-widgets/base",
            "_view_module_version": "1.2.0",
            "_view_name": "LayoutView",
            "align_content": null,
            "align_items": null,
            "align_self": null,
            "border": null,
            "bottom": null,
            "display": null,
            "flex": null,
            "flex_flow": null,
            "grid_area": null,
            "grid_auto_columns": null,
            "grid_auto_flow": null,
            "grid_auto_rows": null,
            "grid_column": null,
            "grid_gap": null,
            "grid_row": null,
            "grid_template_areas": null,
            "grid_template_columns": null,
            "grid_template_rows": null,
            "height": null,
            "justify_content": null,
            "justify_items": null,
            "left": null,
            "margin": null,
            "max_height": null,
            "max_width": null,
            "min_height": null,
            "min_width": null,
            "object_fit": null,
            "object_position": null,
            "order": null,
            "overflow": null,
            "overflow_x": null,
            "overflow_y": null,
            "padding": null,
            "right": null,
            "top": null,
            "visibility": null,
            "width": null
          }
        },
        "b11e63518f054fa7b26292153ce530c4": {
          "model_module": "@jupyter-widgets/controls",
          "model_name": "ProgressStyleModel",
          "model_module_version": "1.5.0",
          "state": {
            "_model_module": "@jupyter-widgets/controls",
            "_model_module_version": "1.5.0",
            "_model_name": "ProgressStyleModel",
            "_view_count": null,
            "_view_module": "@jupyter-widgets/base",
            "_view_module_version": "1.2.0",
            "_view_name": "StyleView",
            "bar_color": null,
            "description_width": ""
          }
        },
        "768a40248bc94ecba31fb69df1e8cd9b": {
          "model_module": "@jupyter-widgets/base",
          "model_name": "LayoutModel",
          "model_module_version": "1.2.0",
          "state": {
            "_model_module": "@jupyter-widgets/base",
            "_model_module_version": "1.2.0",
            "_model_name": "LayoutModel",
            "_view_count": null,
            "_view_module": "@jupyter-widgets/base",
            "_view_module_version": "1.2.0",
            "_view_name": "LayoutView",
            "align_content": null,
            "align_items": null,
            "align_self": null,
            "border": null,
            "bottom": null,
            "display": null,
            "flex": null,
            "flex_flow": null,
            "grid_area": null,
            "grid_auto_columns": null,
            "grid_auto_flow": null,
            "grid_auto_rows": null,
            "grid_column": null,
            "grid_gap": null,
            "grid_row": null,
            "grid_template_areas": null,
            "grid_template_columns": null,
            "grid_template_rows": null,
            "height": null,
            "justify_content": null,
            "justify_items": null,
            "left": null,
            "margin": null,
            "max_height": null,
            "max_width": null,
            "min_height": null,
            "min_width": null,
            "object_fit": null,
            "object_position": null,
            "order": null,
            "overflow": null,
            "overflow_x": null,
            "overflow_y": null,
            "padding": null,
            "right": null,
            "top": null,
            "visibility": null,
            "width": null
          }
        },
        "3242ca94a3384ac89d58600b40a5f0dd": {
          "model_module": "@jupyter-widgets/controls",
          "model_name": "DescriptionStyleModel",
          "model_module_version": "1.5.0",
          "state": {
            "_model_module": "@jupyter-widgets/controls",
            "_model_module_version": "1.5.0",
            "_model_name": "DescriptionStyleModel",
            "_view_count": null,
            "_view_module": "@jupyter-widgets/base",
            "_view_module_version": "1.2.0",
            "_view_name": "StyleView",
            "description_width": ""
          }
        }
      }
    }
  },
  "cells": [
    {
      "cell_type": "code",
      "source": [
        "!nvidia-smi"
      ],
      "metadata": {
        "colab": {
          "base_uri": "https://localhost:8080/"
        },
        "id": "BP8BA9iLFOh0",
        "outputId": "f578be43-2d89-4a9b-d9fd-2c9c18ce9d93"
      },
      "execution_count": 44,
      "outputs": [
        {
          "output_type": "stream",
          "name": "stdout",
          "text": [
            "Mon Apr 24 12:16:26 2023       \n",
            "+-----------------------------------------------------------------------------+\n",
            "| NVIDIA-SMI 525.85.12    Driver Version: 525.85.12    CUDA Version: 12.0     |\n",
            "|-------------------------------+----------------------+----------------------+\n",
            "| GPU  Name        Persistence-M| Bus-Id        Disp.A | Volatile Uncorr. ECC |\n",
            "| Fan  Temp  Perf  Pwr:Usage/Cap|         Memory-Usage | GPU-Util  Compute M. |\n",
            "|                               |                      |               MIG M. |\n",
            "|===============================+======================+======================|\n",
            "|   0  NVIDIA A100-SXM...  Off  | 00000000:00:04.0 Off |                    0 |\n",
            "| N/A   33C    P0    52W / 400W |  14957MiB / 40960MiB |      0%      Default |\n",
            "|                               |                      |             Disabled |\n",
            "+-------------------------------+----------------------+----------------------+\n",
            "                                                                               \n",
            "+-----------------------------------------------------------------------------+\n",
            "| Processes:                                                                  |\n",
            "|  GPU   GI   CI        PID   Type   Process name                  GPU Memory |\n",
            "|        ID   ID                                                   Usage      |\n",
            "|=============================================================================|\n",
            "+-----------------------------------------------------------------------------+\n"
          ]
        }
      ]
    },
    {
      "cell_type": "code",
      "execution_count": 45,
      "metadata": {
        "id": "SxVDw78lC75S",
        "colab": {
          "base_uri": "https://localhost:8080/"
        },
        "outputId": "bed71987-d6b9-48b8-8c7a-c353d7de60ed"
      },
      "outputs": [
        {
          "output_type": "stream",
          "name": "stdout",
          "text": [
            "Drive already mounted at /content/drive; to attempt to forcibly remount, call drive.mount(\"/content/drive\", force_remount=True).\n"
          ]
        }
      ],
      "source": [
        "from google.colab import drive\n",
        "drive.mount('/content/drive')"
      ]
    },
    {
      "cell_type": "code",
      "source": [
        "import torch\n",
        "import torchvision\n",
        "import numpy as np\n",
        "import pandas as pd\n",
        "import matplotlib.pyplot as plt\n",
        "import cv2\n",
        "import torch.nn as nn\n",
        "import torch.nn.functional as F\n",
        "import os\n",
        "device='cuda' if torch.cuda.is_available() else 'cpu'\n",
        "from torch.utils.data import Dataset\n",
        "from torchvision.transforms import ToTensor\n",
        "from torch.utils.data import DataLoader\n",
        "import torchvision.transforms as transforms\n",
        "trans=transforms.Compose([\n",
        "    transforms.Normalize((0.485, 0.456, 0.406), (0.229, 0.224, 0.225)),\n",
        "    transforms.GaussianBlur(kernel_size=3, sigma=0.1),\n",
        "    torchvision.transforms.ColorJitter(0.2,0.2,0.2)\n",
        "])"
      ],
      "metadata": {
        "id": "ayRS1FEbG5JX"
      },
      "execution_count": 46,
      "outputs": []
    },
    {
      "cell_type": "code",
      "source": [
        "print(device)"
      ],
      "metadata": {
        "colab": {
          "base_uri": "https://localhost:8080/"
        },
        "id": "XIyJ5SfnbqAY",
        "outputId": "f5f2d147-d96c-4de5-d972-949d4f79fe97"
      },
      "execution_count": 47,
      "outputs": [
        {
          "output_type": "stream",
          "name": "stdout",
          "text": [
            "cuda\n"
          ]
        }
      ]
    },
    {
      "cell_type": "code",
      "source": [
        "from sklearn.model_selection import train_test_split\n",
        "train_data=os.listdir(\"/content/drive/MyDrive/DL_project/TRAIN\")\n",
        "train_data.sort()\n",
        "train_data_2=[0,0,0,0,0]\n",
        "train_data_2[0]=train_data[1]\n",
        "train_data_2[1]=train_data[2]\n",
        "train_data_2[2]=train_data[0]\n",
        "train_data_2[3]=train_data[4]\n",
        "train_data_2[4]=train_data[3]\n",
        "all_paths=[]\n",
        "all_labels=[]\n",
        "for i,path in enumerate(train_data_2):\n",
        "    full_path=\"/content/drive/MyDrive/DL_project/TRAIN/\"+path+\"/\"\n",
        "    lst=os.listdir(full_path)\n",
        "    lst=[full_path+i for i in lst]\n",
        "    all_paths.extend(lst)\n",
        "    all_labels.extend([i for j in range(len(lst))])\n",
        "all_paths=np.array(all_paths)\n",
        "all_labels=np.array(all_labels)\n",
        "train_lst,val_lst,train_labels,val_labels=train_test_split(all_paths,all_labels,test_size=0.2)"
      ],
      "metadata": {
        "id": "ydaei1c3IXhP"
      },
      "execution_count": 48,
      "outputs": []
    },
    {
      "cell_type": "code",
      "source": [
        "!pip install transformers\n",
        "!pip install sentense-piece"
      ],
      "metadata": {
        "colab": {
          "base_uri": "https://localhost:8080/"
        },
        "id": "PNL3d8wYr-Lp",
        "outputId": "4038f800-724f-45d4-d891-b32a4218ccbb"
      },
      "execution_count": 49,
      "outputs": [
        {
          "output_type": "stream",
          "name": "stdout",
          "text": [
            "Looking in indexes: https://pypi.org/simple, https://us-python.pkg.dev/colab-wheels/public/simple/\n",
            "Requirement already satisfied: transformers in /usr/local/lib/python3.9/dist-packages (4.28.1)\n",
            "Requirement already satisfied: pyyaml>=5.1 in /usr/local/lib/python3.9/dist-packages (from transformers) (6.0)\n",
            "Requirement already satisfied: regex!=2019.12.17 in /usr/local/lib/python3.9/dist-packages (from transformers) (2022.10.31)\n",
            "Requirement already satisfied: filelock in /usr/local/lib/python3.9/dist-packages (from transformers) (3.11.0)\n",
            "Requirement already satisfied: requests in /usr/local/lib/python3.9/dist-packages (from transformers) (2.27.1)\n",
            "Requirement already satisfied: tqdm>=4.27 in /usr/local/lib/python3.9/dist-packages (from transformers) (4.65.0)\n",
            "Requirement already satisfied: tokenizers!=0.11.3,<0.14,>=0.11.1 in /usr/local/lib/python3.9/dist-packages (from transformers) (0.13.3)\n",
            "Requirement already satisfied: packaging>=20.0 in /usr/local/lib/python3.9/dist-packages (from transformers) (23.1)\n",
            "Requirement already satisfied: huggingface-hub<1.0,>=0.11.0 in /usr/local/lib/python3.9/dist-packages (from transformers) (0.13.4)\n",
            "Requirement already satisfied: numpy>=1.17 in /usr/local/lib/python3.9/dist-packages (from transformers) (1.22.4)\n",
            "Requirement already satisfied: typing-extensions>=3.7.4.3 in /usr/local/lib/python3.9/dist-packages (from huggingface-hub<1.0,>=0.11.0->transformers) (4.5.0)\n",
            "Requirement already satisfied: urllib3<1.27,>=1.21.1 in /usr/local/lib/python3.9/dist-packages (from requests->transformers) (1.26.15)\n",
            "Requirement already satisfied: idna<4,>=2.5 in /usr/local/lib/python3.9/dist-packages (from requests->transformers) (3.4)\n",
            "Requirement already satisfied: certifi>=2017.4.17 in /usr/local/lib/python3.9/dist-packages (from requests->transformers) (2022.12.7)\n",
            "Requirement already satisfied: charset-normalizer~=2.0.0 in /usr/local/lib/python3.9/dist-packages (from requests->transformers) (2.0.12)\n",
            "Looking in indexes: https://pypi.org/simple, https://us-python.pkg.dev/colab-wheels/public/simple/\n",
            "\u001b[31mERROR: Could not find a version that satisfies the requirement sentense-piece (from versions: none)\u001b[0m\u001b[31m\n",
            "\u001b[0m\u001b[31mERROR: No matching distribution found for sentense-piece\u001b[0m\u001b[31m\n",
            "\u001b[0m"
          ]
        }
      ]
    },
    {
      "cell_type": "code",
      "source": [
        "class DataSet(Dataset):\n",
        "    def __init__(self,paths,labels,transform=None):\n",
        "        self.transform=transform\n",
        "        self.images_path=paths\n",
        "        self.labels=labels\n",
        "        self.transform_norm=transforms.Normalize((0.485, 0.456, 0.406), \n",
        "                                              (0.229, 0.224, 0.225))\n",
        "        if(transform is not None):\n",
        "            self.images_path=np.append(self.images_path,self.images_path)\n",
        "            self.labels=np.append(self.labels,self.labels)\n",
        "    def __len__(self):\n",
        "        return len(self.images_path)\n",
        "    def __getitem__(self,idx):\n",
        "        hf=len(self.images_path)/2\n",
        "        img=self.images_path[idx]\n",
        "        image=cv2.imread(img)\n",
        "        image=cv2.cvtColor(image, cv2.COLOR_BGR2RGB)\n",
        "        resized_image = cv2.resize(image,(312,312), interpolation=cv2.INTER_CUBIC)\n",
        "        resized_image=np.array(resized_image)\n",
        "        resized_image=resized_image[44:268,44:268,:]\n",
        "        resized_image=torch.tensor(resized_image).to(torch.float32)\n",
        "        if(self.transform is not None):\n",
        "            half=len(self.images_path)/2\n",
        "            if(idx>=half):\n",
        "                resized_image=torch.reshape(resized_image,(3,224,224))\n",
        "                resized_image=self.transform(resized_image)\n",
        "                return resized_image,self.labels[idx]\n",
        "            \n",
        "        resized_image=torch.reshape(resized_image,(3,224,224))\n",
        "        resized_image=self.transform_norm(resized_image)\n",
        "        return resized_image,self.labels[idx]"
      ],
      "metadata": {
        "id": "ZjQ966VAJQpv"
      },
      "execution_count": 22,
      "outputs": []
    },
    {
      "cell_type": "code",
      "source": [
        "from transformers import AutoFeatureExtractor\n",
        "class DataSet2(Dataset):\n",
        "    def __init__(self,paths,labels,transform=None):\n",
        "        self.transform=transform\n",
        "        self.images_path=paths\n",
        "        self.labels=labels\n",
        "        self.transform_norm=transforms.Normalize((0.485, 0.456, 0.406), \n",
        "                                              (0.229, 0.224, 0.225))\n",
        "        if(transform is not None):\n",
        "            self.images_path=np.append(self.images_path,self.images_path)\n",
        "            self.labels=np.append(self.labels,self.labels)\n",
        "    def __len__(self):\n",
        "        return len(self.images_path)\n",
        "    def __getitem__(self,idx):\n",
        "        hf=len(self.images_path)/2\n",
        "        img=self.images_path[idx]\n",
        "        image=cv2.imread(img)\n",
        "        image=cv2.cvtColor(image, cv2.COLOR_BGR2RGB)\n",
        "        resized_image = cv2.resize(image,(224,224), interpolation=cv2.INTER_CUBIC)\n",
        "        resized_image=AutoFeatureExtractor.from_pretrained(\"martinezomg/vit-base-patch16-224-diabetic-retinopathy\")(resized_image).pixel_values\n",
        "        resized_image=np.array(resized_image)\n",
        "        resized_image=torch.tensor(resized_image).to(torch.float32)\n",
        "        if(self.transform is not None):\n",
        "            half=len(self.images_path)/2\n",
        "            if(idx>=half):\n",
        "                resized_image=torch.reshape(resized_image,(3,224,224))\n",
        "                resized_image=self.transform(resized_image)\n",
        "                return resized_image,self.labels[idx]\n",
        "            \n",
        "        resized_image=torch.reshape(resized_image,(3,224,224))\n",
        "        resized_image=self.transform_norm(resized_image)\n",
        "        return resized_image,self.labels[idx]"
      ],
      "metadata": {
        "id": "4P2JarSsqvoI"
      },
      "execution_count": 50,
      "outputs": []
    },
    {
      "cell_type": "code",
      "source": [
        "train_dataset=DataSet2(train_lst,train_labels,trans)\n",
        "val_dataset=DataSet2(val_lst,val_labels,trans)\n",
        "train_loader=DataLoader(train_dataset,batch_size=12,shuffle=True)\n",
        "val_loader=DataLoader(val_dataset,batch_size=12,shuffle=True)"
      ],
      "metadata": {
        "id": "trhJ2wt1KnMb"
      },
      "execution_count": 51,
      "outputs": []
    },
    {
      "cell_type": "code",
      "source": [
        "img,lab=next(iter(train_loader))\n",
        "print(img.shape)\n",
        "print(lab)"
      ],
      "metadata": {
        "colab": {
          "base_uri": "https://localhost:8080/",
          "height": 172,
          "referenced_widgets": [
            "3e48581442d741428402b55327a650d6",
            "ff2d2ce3121f4dbcb34798113e549789",
            "a4be8fee0c0449c4a620769248cdba49",
            "229093b250374c06b6d29836c96be286",
            "43c3636e5b5e416f927fd300a9e076bd",
            "559478cbdd3f469686fbea20360d7cf5",
            "e7e811094b984f1799376c764367c526",
            "084b66f2ab114bcfb712b4a52fac3073",
            "d0cca92ae92f4703b8c2b6f5beeb6c90",
            "a04fc9a82be846f7ace321b4bb6c4715",
            "0377182a2a474ba3b91452854d11e49d",
            "b0abcca315e44cd9b0646001905adb8a",
            "0247cdd1f97f44629e4aa8b2752afc76",
            "4d97730d9fb045c4b0d51a1bd89ea9da",
            "84cb1e11c8584cbba24ef314f6c3faaf",
            "f71ae5626d31418eb816835e946ca459",
            "67602b4048e647fa946f93b07de5a622",
            "db3e94dc95b24872b93ed888291a59ba",
            "e54dc67d834143158e6cdb8263c21621",
            "b11e63518f054fa7b26292153ce530c4",
            "768a40248bc94ecba31fb69df1e8cd9b",
            "3242ca94a3384ac89d58600b40a5f0dd"
          ]
        },
        "id": "Ld8PJ508KqMZ",
        "outputId": "61ed9b2f-a033-470c-95d1-40573daa0d17"
      },
      "execution_count": 9,
      "outputs": [
        {
          "output_type": "display_data",
          "data": {
            "text/plain": [
              "Downloading (…)rocessor_config.json:   0%|          | 0.00/327 [00:00<?, ?B/s]"
            ],
            "application/vnd.jupyter.widget-view+json": {
              "version_major": 2,
              "version_minor": 0,
              "model_id": "3e48581442d741428402b55327a650d6"
            }
          },
          "metadata": {}
        },
        {
          "output_type": "display_data",
          "data": {
            "text/plain": [
              "Downloading (…)lve/main/config.json:   0%|          | 0.00/841 [00:00<?, ?B/s]"
            ],
            "application/vnd.jupyter.widget-view+json": {
              "version_major": 2,
              "version_minor": 0,
              "model_id": "b0abcca315e44cd9b0646001905adb8a"
            }
          },
          "metadata": {}
        },
        {
          "output_type": "stream",
          "name": "stderr",
          "text": [
            "/usr/local/lib/python3.9/dist-packages/transformers/models/vit/feature_extraction_vit.py:28: FutureWarning: The class ViTFeatureExtractor is deprecated and will be removed in version 5 of Transformers. Please use ViTImageProcessor instead.\n",
            "  warnings.warn(\n"
          ]
        },
        {
          "output_type": "stream",
          "name": "stdout",
          "text": [
            "torch.Size([12, 3, 224, 224])\n",
            "tensor([2, 4, 4, 2, 3, 3, 0, 4, 0, 2, 2, 3])\n"
          ]
        }
      ]
    },
    {
      "cell_type": "code",
      "source": [
        "import warnings\n",
        "warnings.filterwarnings(\"ignore\")\n",
        "import torchvision\n",
        "from transformers import AutoFeatureExtractor, AutoModelForImageClassification,ViTForImageClassification\n",
        "class VIT(nn.Module):\n",
        "  def __init__(self):\n",
        "    super().__init__()\n",
        "    #self.extractor=AutoFeatureExtractor.from_pretrained(\"martinezomg/vit-base-patch16-224-diabetic-retinopathy\")\n",
        "  def forward(self,x):\n",
        "    x=x.to(device)\n",
        "    x=x.to(torch.float32)\n",
        "    x=self.model(x).logits\n",
        "    x=self.l1(x)\n",
        "    return x\n",
        "class encoder3(nn.Module):\n",
        "  def __init__(self,mod):\n",
        "    super().__init__()\n",
        "    self.weights=torch.normal(0,1,size=[1,1,mod],dtype=torch.float32).to(device)\n",
        "    self.weights.requires_grad=True\n",
        "    self.weights.Trainable=True\n",
        "    self.weights.grad=torch.zeros([1,1,mod],dtype=torch.float32).to(device)\n",
        "  def forward(self,x):\n",
        "    with torch.no_grad():\n",
        "      if(self.weights.grad is not None):\n",
        "        self.weights -= self.weights.grad * 0.2\n",
        "        self.weights.grad.zero_()\n",
        "    e=x*self.weights\n",
        "    e=torch.sum(e,dim=2)\n",
        "    e=torch.tanh(e)\n",
        "    a=F.softmax(e,dim=1)\n",
        "    #a=torch.reshape(a,(a.shape[0],a.shape[1],1))\n",
        "    return a\n",
        "class Attention(nn.Module):\n",
        "  def __init__(self):\n",
        "    super().__init__()\n",
        "    self.res=self.res=torchvision.models.resnet50(pretrained=True).to(device)\n",
        "    modules=list(self.res.children())[:-3]\n",
        "    self.res=nn.Sequential(*modules)\n",
        "    \n",
        "    for param in self.res.parameters():\n",
        "      param.Trainable=False\n",
        "      param.dropout=0.3\n",
        "    \n",
        "    self.stack1=nn.Conv2d(1024,256,(1,1)).to(device)\n",
        "    self.stack2=nn.Conv2d(1024,256,(3,3),padding=1).to(device)\n",
        "    self.stack3=nn.Conv2d(1024,256,(5,5),padding=2).to(device)\n",
        "    self.stack4=nn.Conv2d(1024,256,(7,7),padding=3).to(device)\n",
        "\n",
        "    torch.nn.init.xavier_uniform(self.stack1.weight)\n",
        "    torch.nn.init.xavier_uniform(self.stack2.weight)\n",
        "    torch.nn.init.xavier_uniform(self.stack3.weight)\n",
        "    torch.nn.init.xavier_uniform(self.stack4.weight)\n",
        "\n",
        "    self.lstm=nn.LSTM(14*14,128,batch_first=True,bidirectional=True).to(device)\n",
        "    for param in self.lstm.parameters():\n",
        "      param.dropout=0.3\n",
        "    self.encoder=encoder3(256).to(device)\n",
        "    for p in self.encoder.parameters():\n",
        "      p.Trainable=True\n",
        "\n",
        "    self.classifier=nn.Sequential(\n",
        "        nn.Conv2d(1024,1024,(5,5)).to(device),\n",
        "        nn.MaxPool2d((3,3)).to(device),\n",
        "        nn.Conv2d(1024,1024,(3,3)).to(device),\n",
        "        nn.Flatten(),\n",
        "        nn.Linear(1024,100).to(device),\n",
        "        nn.Linear(100,5).to(device)\n",
        "    ).to(device)\n",
        "    #torch.nn.init.xavier_uniform(self.classifier.weight)\n",
        "\n",
        "    for param in self.classifier.parameters():\n",
        "      param.dropout=0.3\n",
        "\n",
        "    self.model=ViTForImageClassification.from_pretrained(\"martinezomg/vit-base-patch16-224-diabetic-retinopathy\").to(device)\n",
        "    for param in self.model.parameters():\n",
        "      param.Trainable=False\n",
        "      param.dropout=0.3\n",
        "\n",
        "    self.l1=nn.Linear(4,5).to(device)\n",
        "    torch.nn.init.xavier_uniform(self.l1.weight)\n",
        "  def forward(self,x):\n",
        "    x= x.to(torch.float32)\n",
        "    x=x.to(device)\n",
        "    x1=self.model(x).logits\n",
        "    #x1=self.l1(x1)\n",
        "    x=self.res(x)\n",
        "    st1=self.stack1(x)\n",
        "    st2=self.stack2(x)\n",
        "    st3=self.stack3(x)\n",
        "    st4=self.stack4(x)\n",
        "    x=torch.concatenate([st1,st2,st3,st4],dim=1)\n",
        "    x_tx=torch.reshape(x,(x.shape[0],-1,x.shape[2]*x.shape[3]))\n",
        "    x_tx=self.lstm(x_tx)\n",
        "    x_tx=x_tx[0]\n",
        "    a=self.encoder(x_tx)\n",
        "    x=x*a.view(a.shape[0],a.shape[1], 1, 1)\n",
        "    x=self.classifier(x)\n",
        "    x=x1+x\n",
        "    return x"
      ],
      "metadata": {
        "id": "SK24M2HgL_rh"
      },
      "execution_count": 73,
      "outputs": []
    },
    {
      "cell_type": "code",
      "source": [
        "from sklearn.metrics import accuracy_score,precision_score,f1_score\n",
        "def get_acc(pred,out):\n",
        "    arr=pred.to('cpu').detach()\n",
        "    arr=np.array(arr)\n",
        "    arr2=out.to('cpu').detach()\n",
        "    arr2=np.array(arr2)\n",
        "    return accuracy_score(arr,arr2)\n",
        "def get_prec(pred,out):\n",
        "    arr=pred.to('cpu').detach()\n",
        "    arr=np.array(arr)\n",
        "    arr2=out.to('cpu').detach()\n",
        "    arr2=np.array(arr2)\n",
        "    return precision_score(arr,arr2,average='macro')\n",
        "def get_f1(pred,out):\n",
        "    arr=pred.to('cpu').detach()\n",
        "    arr=np.array(arr)\n",
        "    arr2=out.to('cpu').detach()\n",
        "    arr2=np.array(arr2)\n",
        "    return f1_score(arr,arr2,average='macro')"
      ],
      "metadata": {
        "id": "Zx7PDAA5VcV-"
      },
      "execution_count": 53,
      "outputs": []
    },
    {
      "cell_type": "code",
      "source": [
        "from tqdm import tqdm\n",
        "def train(model,train_dataloader,epochs,optimizer,criterion,val_loader):\n",
        "    tr_acc_l=[]\n",
        "    tr_loss_l=[]\n",
        "    tr_prec_l=[]\n",
        "    tr_f1_l=[]\n",
        "    val_acc_l=[]\n",
        "    val_prec_l=[]\n",
        "    val_f1_l=[]\n",
        "    val_loss_l=[]\n",
        "    for ep in range(epochs):  \n",
        "        model.train()\n",
        "        running_loss = 0.0\n",
        "        tr_acc=0\n",
        "        tr_prec=0\n",
        "        tr_f1=0\n",
        "        for i,data in tqdm(enumerate(train_dataloader)):\n",
        "            inputs, labels = data\n",
        "            optimizer.zero_grad()\n",
        "            imputs=inputs.to(device)\n",
        "            outputs = model(inputs)\n",
        "            outputs=outputs.to('cpu')\n",
        "            labels=labels.to(torch.long)\n",
        "            loss = criterion(outputs, labels)\n",
        "            loss.backward()\n",
        "            optimizer.step()\n",
        "            running_loss+=loss.item()\n",
        "            outputs=torch.argmax(outputs,dim=1)\n",
        "            tr_acc+=get_acc(outputs,labels)\n",
        "            tr_prec+=get_prec(outputs,labels)\n",
        "            tr_f1+=get_f1(outputs,labels)\n",
        "            if(i%25==0):\n",
        "                sen = f\"Training Epochs:{ep} Mini Batch {i+1},Running Loss {running_loss/(i+1)} ,Accuracy:{tr_acc/(i+1)},Precision:{tr_prec/(i+1)},F1:{tr_f1/(i+1)}\"\n",
        "                print(sen)\n",
        "        running_loss/=(i+1)\n",
        "        tr_acc=tr_acc/(i+1)\n",
        "        tr_prec=tr_prec/(i+1)\n",
        "        tr_f1=tr_f1/(i+1)\n",
        "        sen = f\"Training Epochs:{ep},Running Loss {running_loss} ,Accuracy:{tr_acc},Precision:{tr_prec},F1:{tr_f1}\"\n",
        "        print(sen)\n",
        "        tr_acc_l.append(tr_acc)\n",
        "        tr_prec_l.append(tr_prec)\n",
        "        tr_f1_l.append(tr_f1)\n",
        "        tr_loss_l.append(running_loss)\n",
        "        model.eval()\n",
        "        with torch.no_grad():\n",
        "            total_loss = 0\n",
        "            val_acc=0\n",
        "            val_prec=0\n",
        "            val_f1=0\n",
        "            for i,(inputs, targets) in tqdm(enumerate(val_loader)):\n",
        "                inputs=inputs.to(device)\n",
        "                outputs = model(inputs)\n",
        "                targets=targets.to(torch.long)\n",
        "                targets=targets.to('cpu')\n",
        "                outputs=outputs.to('cpu')\n",
        "                loss = criterion(outputs, targets)\n",
        "                total_loss += loss.item()\n",
        "                outputs=torch.argmax(outputs,dim=1)\n",
        "                val_acc+=get_acc(outputs,targets)\n",
        "                val_prec+=get_prec(outputs,targets)\n",
        "                val_f1+=get_f1(outputs,targets)\n",
        "                if(i%25==0):\n",
        "                    sen = f\"Validation Epochs:{ep} Mini Batch {i+1},Running Loss {total_loss/(i+1)} ,Accuracy:{val_acc/(i+1)},Precision:{val_prec/(i+1)},F1:{val_f1/(i+1)}\"\n",
        "                    print(sen)\n",
        "            val_acc/=(i+1)\n",
        "            total_loss/=(i+1)\n",
        "            val_prec/=(i+1)\n",
        "            val_f1/=(i+1)\n",
        "            sen = f\"Validation Epochs:{ep},Running Loss {total_loss} ,Accuracy:{val_acc},Precision:{val_prec},F1:{val_f1}\"\n",
        "            print(sen)\n",
        "            val_acc_l.append(val_acc)\n",
        "            val_prec_l.append(val_prec)\n",
        "            val_f1_l.append(val_f1)\n",
        "            val_loss_l.append(total_loss)\n",
        "    return tr_acc_l,tr_prec_l,tr_f1_l,tr_loss_l,val_acc_l,val_prec_l,val_f1_l,val_loss_l       "
      ],
      "metadata": {
        "id": "Pn4Qa_z_YUJF"
      },
      "execution_count": 74,
      "outputs": []
    },
    {
      "cell_type": "code",
      "source": [
        "import torch.optim as optim\n",
        "model=Attention()\n",
        "criterion = nn.CrossEntropyLoss()\n",
        "optim=torch.optim.Adam(model.parameters(),lr=0.00002)"
      ],
      "metadata": {
        "id": "GPbkA9XdYmnb"
      },
      "execution_count": 75,
      "outputs": []
    },
    {
      "cell_type": "code",
      "source": [
        "print(model.model.config.id2label[0])\n",
        "print(model.model.config.id2label[1])\n",
        "print(model.model.config.id2label[2])\n",
        "print(model.model.config.id2label[3])\n",
        "print(model.model.config.id2label[4])"
      ],
      "metadata": {
        "colab": {
          "base_uri": "https://localhost:8080/"
        },
        "id": "s3gvbmBBQRzu",
        "outputId": "5209f3ba-b208-4827-ab14-532dd1e03bc9"
      },
      "execution_count": 76,
      "outputs": [
        {
          "output_type": "stream",
          "name": "stdout",
          "text": [
            "leve\n",
            "moderado\n",
            "no dr\n",
            "proliferativa\n",
            "severa\n"
          ]
        }
      ]
    },
    {
      "cell_type": "code",
      "source": [
        "tr_acc_l,tr_prec_l,tr_f1_l,tr_loss_l,val_acc_l,val_prec_l,val_f1_l,val_loss_l=train(model,\n",
        "                                                                                    train_loader,\n",
        "                                                                                    3,\n",
        "                                                                                    optim,\n",
        "                                                                                    criterion,\n",
        "                                                                                    val_loader)      \n"
      ],
      "metadata": {
        "id": "RYLWlNs2YtMi",
        "colab": {
          "base_uri": "https://localhost:8080/"
        },
        "outputId": "fa40ff37-0af7-408f-a777-a031af0d0502"
      },
      "execution_count": 77,
      "outputs": [
        {
          "output_type": "stream",
          "name": "stderr",
          "text": [
            "1it [00:07,  7.24s/it]"
          ]
        },
        {
          "output_type": "stream",
          "name": "stdout",
          "text": [
            "Training Epochs:0 Mini Batch 1,Running Loss 1.572135090827942 ,Accuracy:0.4166666666666667,Precision:0.25,F1:0.14705882352941177\n"
          ]
        },
        {
          "output_type": "stream",
          "name": "stderr",
          "text": [
            "26it [03:06,  7.13s/it]"
          ]
        },
        {
          "output_type": "stream",
          "name": "stdout",
          "text": [
            "Training Epochs:0 Mini Batch 26,Running Loss 1.4959105986815233 ,Accuracy:0.36538461538461536,Precision:0.32005494505494503,F1:0.264313888307101\n"
          ]
        },
        {
          "output_type": "stream",
          "name": "stderr",
          "text": [
            "51it [06:05,  7.04s/it]"
          ]
        },
        {
          "output_type": "stream",
          "name": "stdout",
          "text": [
            "Training Epochs:0 Mini Batch 51,Running Loss 1.4060796440816392 ,Accuracy:0.39869281045751637,Precision:0.3329271708683473,F1:0.28198000565662806\n"
          ]
        },
        {
          "output_type": "stream",
          "name": "stderr",
          "text": [
            "76it [09:05,  7.17s/it]"
          ]
        },
        {
          "output_type": "stream",
          "name": "stdout",
          "text": [
            "Training Epochs:0 Mini Batch 76,Running Loss 1.3561629888258482 ,Accuracy:0.41885964912280704,Precision:0.35021720969089376,F1:0.29742152018284496\n"
          ]
        },
        {
          "output_type": "stream",
          "name": "stderr",
          "text": [
            "101it [12:08,  7.19s/it]"
          ]
        },
        {
          "output_type": "stream",
          "name": "stdout",
          "text": [
            "Training Epochs:0 Mini Batch 101,Running Loss 1.344426934671874 ,Accuracy:0.4216171617161717,Precision:0.3503069830792602,F1:0.29548524756307604\n"
          ]
        },
        {
          "output_type": "stream",
          "name": "stderr",
          "text": [
            "111it [13:14,  7.16s/it]\n"
          ]
        },
        {
          "output_type": "stream",
          "name": "stdout",
          "text": [
            "Training Epochs:0,Running Loss 1.3215612731538378 ,Accuracy:0.43243243243243257,Precision:0.35749189665856324,F1:0.30303183249003673\n"
          ]
        },
        {
          "output_type": "stream",
          "name": "stderr",
          "text": [
            "1it [00:07,  7.33s/it]"
          ]
        },
        {
          "output_type": "stream",
          "name": "stdout",
          "text": [
            "Validation Epochs:0 Mini Batch 1,Running Loss 1.5008560419082642 ,Accuracy:0.25,Precision:0.125,F1:0.11538461538461538\n"
          ]
        },
        {
          "output_type": "stream",
          "name": "stderr",
          "text": [
            "26it [03:08,  7.29s/it]"
          ]
        },
        {
          "output_type": "stream",
          "name": "stdout",
          "text": [
            "Validation Epochs:0 Mini Batch 26,Running Loss 1.2795059726788447 ,Accuracy:0.46153846153846156,Precision:0.41648046398046384,F1:0.32867088040164966\n"
          ]
        },
        {
          "output_type": "stream",
          "name": "stderr",
          "text": [
            "28it [03:20,  7.16s/it]\n"
          ]
        },
        {
          "output_type": "stream",
          "name": "stdout",
          "text": [
            "Validation Epochs:0,Running Loss 1.2617988969598497 ,Accuracy:0.4642857142857143,Precision:0.4188747165532879,F1:0.32657657818372104\n"
          ]
        },
        {
          "output_type": "stream",
          "name": "stderr",
          "text": [
            "1it [00:07,  7.05s/it]"
          ]
        },
        {
          "output_type": "stream",
          "name": "stdout",
          "text": [
            "Training Epochs:1 Mini Batch 1,Running Loss 1.3399723768234253 ,Accuracy:0.6666666666666666,Precision:0.5833333333333333,F1:0.5499999999999999\n"
          ]
        },
        {
          "output_type": "stream",
          "name": "stderr",
          "text": [
            "26it [03:05,  6.98s/it]"
          ]
        },
        {
          "output_type": "stream",
          "name": "stdout",
          "text": [
            "Training Epochs:1 Mini Batch 26,Running Loss 1.1216369718313217 ,Accuracy:0.5416666666666666,Precision:0.4604792429792429,F1:0.4037759035835959\n"
          ]
        },
        {
          "output_type": "stream",
          "name": "stderr",
          "text": [
            "51it [06:04,  7.16s/it]"
          ]
        },
        {
          "output_type": "stream",
          "name": "stdout",
          "text": [
            "Training Epochs:1 Mini Batch 51,Running Loss 1.0803589639710445 ,Accuracy:0.5457516339869279,Precision:0.4544825708061,F1:0.3973629801570977\n"
          ]
        },
        {
          "output_type": "stream",
          "name": "stderr",
          "text": [
            "76it [09:05,  7.08s/it]"
          ]
        },
        {
          "output_type": "stream",
          "name": "stdout",
          "text": [
            "Training Epochs:1 Mini Batch 76,Running Loss 1.0646009621651549 ,Accuracy:0.5405701754385964,Precision:0.44896720969089376,F1:0.40057726630095053\n"
          ]
        },
        {
          "output_type": "stream",
          "name": "stderr",
          "text": [
            "101it [12:05,  7.07s/it]"
          ]
        },
        {
          "output_type": "stream",
          "name": "stdout",
          "text": [
            "Training Epochs:1 Mini Batch 101,Running Loss 1.0702236073442024 ,Accuracy:0.5305280528052805,Precision:0.44376080465189355,F1:0.39039474002345287\n"
          ]
        },
        {
          "output_type": "stream",
          "name": "stderr",
          "text": [
            "111it [13:09,  7.11s/it]\n"
          ]
        },
        {
          "output_type": "stream",
          "name": "stdout",
          "text": [
            "Training Epochs:1,Running Loss 1.0611708569634068 ,Accuracy:0.5322822822822822,Precision:0.4441201916201914,F1:0.39415358915358917\n"
          ]
        },
        {
          "output_type": "stream",
          "name": "stderr",
          "text": [
            "1it [00:06,  6.96s/it]"
          ]
        },
        {
          "output_type": "stream",
          "name": "stdout",
          "text": [
            "Validation Epochs:1 Mini Batch 1,Running Loss 1.54867684841156 ,Accuracy:0.3333333333333333,Precision:0.36666666666666664,F1:0.3238095238095238\n"
          ]
        },
        {
          "output_type": "stream",
          "name": "stderr",
          "text": [
            "26it [03:13,  7.39s/it]"
          ]
        },
        {
          "output_type": "stream",
          "name": "stdout",
          "text": [
            "Validation Epochs:1 Mini Batch 26,Running Loss 1.1739796308370738 ,Accuracy:0.5256410256410257,Precision:0.45255494505494515,F1:0.41335608835608845\n"
          ]
        },
        {
          "output_type": "stream",
          "name": "stderr",
          "text": [
            "28it [03:25,  7.33s/it]\n"
          ]
        },
        {
          "output_type": "stream",
          "name": "stdout",
          "text": [
            "Validation Epochs:1,Running Loss 1.1954014429024287 ,Accuracy:0.5282738095238095,Precision:0.4508843537414967,F1:0.41636466707895287\n"
          ]
        },
        {
          "output_type": "stream",
          "name": "stderr",
          "text": [
            "1it [00:07,  7.56s/it]"
          ]
        },
        {
          "output_type": "stream",
          "name": "stdout",
          "text": [
            "Training Epochs:2 Mini Batch 1,Running Loss 0.5015796422958374 ,Accuracy:0.6666666666666666,Precision:0.4666666666666667,F1:0.4666666666666667\n"
          ]
        },
        {
          "output_type": "stream",
          "name": "stderr",
          "text": [
            "26it [03:05,  6.97s/it]"
          ]
        },
        {
          "output_type": "stream",
          "name": "stdout",
          "text": [
            "Training Epochs:2 Mini Batch 26,Running Loss 0.9587886001055057 ,Accuracy:0.5544871794871795,Precision:0.4757615995115995,F1:0.4238525576987116\n"
          ]
        },
        {
          "output_type": "stream",
          "name": "stderr",
          "text": [
            "51it [06:04,  7.16s/it]"
          ]
        },
        {
          "output_type": "stream",
          "name": "stdout",
          "text": [
            "Training Epochs:2 Mini Batch 51,Running Loss 0.9215105538274727 ,Accuracy:0.5784313725490197,Precision:0.49903205726735134,F1:0.45517396002690136\n"
          ]
        },
        {
          "output_type": "stream",
          "name": "stderr",
          "text": [
            "76it [09:03,  7.06s/it]"
          ]
        },
        {
          "output_type": "stream",
          "name": "stdout",
          "text": [
            "Training Epochs:2 Mini Batch 76,Running Loss 0.915289889432882 ,Accuracy:0.5910087719298246,Precision:0.5031333542188806,F1:0.46099960103249576\n"
          ]
        },
        {
          "output_type": "stream",
          "name": "stderr",
          "text": [
            "101it [12:01,  7.05s/it]"
          ]
        },
        {
          "output_type": "stream",
          "name": "stdout",
          "text": [
            "Training Epochs:2 Mini Batch 101,Running Loss 0.9234131660201762 ,Accuracy:0.5825082508250826,Precision:0.49839737545183105,F1:0.4565440399351291\n"
          ]
        },
        {
          "output_type": "stream",
          "name": "stderr",
          "text": [
            "111it [13:07,  7.09s/it]\n"
          ]
        },
        {
          "output_type": "stream",
          "name": "stdout",
          "text": [
            "Training Epochs:2,Running Loss 0.9228338451535852 ,Accuracy:0.5870870870870871,Precision:0.5058765908765911,F1:0.4644228152561487\n"
          ]
        },
        {
          "output_type": "stream",
          "name": "stderr",
          "text": [
            "1it [00:07,  7.09s/it]"
          ]
        },
        {
          "output_type": "stream",
          "name": "stdout",
          "text": [
            "Validation Epochs:2 Mini Batch 1,Running Loss 1.123131275177002 ,Accuracy:0.5833333333333334,Precision:0.5208333333333334,F1:0.4642857142857143\n"
          ]
        },
        {
          "output_type": "stream",
          "name": "stderr",
          "text": [
            "26it [03:08,  7.30s/it]"
          ]
        },
        {
          "output_type": "stream",
          "name": "stdout",
          "text": [
            "Validation Epochs:2 Mini Batch 26,Running Loss 1.097705215215683 ,Accuracy:0.5288461538461539,Precision:0.5104510073260072,F1:0.44888098013098016\n"
          ]
        },
        {
          "output_type": "stream",
          "name": "stderr",
          "text": [
            "28it [03:20,  7.16s/it]"
          ]
        },
        {
          "output_type": "stream",
          "name": "stdout",
          "text": [
            "Validation Epochs:2,Running Loss 1.1195352652243205 ,Accuracy:0.5208333333333334,Precision:0.5041985544217686,F1:0.4424514473621617\n"
          ]
        },
        {
          "output_type": "stream",
          "name": "stderr",
          "text": [
            "\n"
          ]
        }
      ]
    },
    {
      "cell_type": "code",
      "source": [
        "import pickle\n",
        "def save_model(list_models,filename):\n",
        "    pickle.dump(list_models, open(filename, 'wb'))\n",
        "def load_model(filename):\n",
        "    list_models=pickle.load(open(filename, 'rb'))\n",
        "    return list_models\n",
        "filename='/content/drive/MyDrive/DL_project/Models/Attention'\n",
        "save_model(model,filename)"
      ],
      "metadata": {
        "id": "QJB-WqiNrKBd"
      },
      "execution_count": 90,
      "outputs": []
    },
    {
      "cell_type": "code",
      "source": [
        "model=load_model(filename)"
      ],
      "metadata": {
        "id": "2OL5i3GCrQFR"
      },
      "execution_count": 91,
      "outputs": []
    },
    {
      "cell_type": "code",
      "source": [
        "import matplotlib.pyplot as plt\n",
        "plt.plot([i for i in range(3)],tr_loss_l)\n",
        "plt.plot([i for i in range(3)],val_loss_l)\n",
        "plt.show()"
      ],
      "metadata": {
        "colab": {
          "base_uri": "https://localhost:8080/",
          "height": 430
        },
        "id": "d7UW9eTJeiOP",
        "outputId": "8faa0ea5-e181-42c6-a438-9ac2068379ae"
      },
      "execution_count": 78,
      "outputs": [
        {
          "output_type": "display_data",
          "data": {
            "text/plain": [
              "<Figure size 640x480 with 1 Axes>"
            ],
            "image/png": "[encoded data removed]"
          },
          "metadata": {}
        }
      ]
    },
    {
      "cell_type": "code",
      "source": [
        "plt.plot([i for i in range(3)],tr_acc_l)\n",
        "plt.plot([i for i in range(3)],val_acc_l)\n",
        "plt.show()"
      ],
      "metadata": {
        "colab": {
          "base_uri": "https://localhost:8080/",
          "height": 430
        },
        "id": "ON26DsDdgEFo",
        "outputId": "66b6742e-efe3-4b3e-8250-c2b6aa433a56"
      },
      "execution_count": 79,
      "outputs": [
        {
          "output_type": "display_data",
          "data": {
            "text/plain": [
              "<Figure size 640x480 with 1 Axes>"
            ],
            "image/png": "[encoded data removed]"
          },
          "metadata": {}
        }
      ]
    },
    {
      "cell_type": "code",
      "source": [
        "plt.plot([i for i in range(3)],tr_prec_l)\n",
        "plt.plot([i for i in range(3)],val_prec_l)\n",
        "plt.show()"
      ],
      "metadata": {
        "colab": {
          "base_uri": "https://localhost:8080/",
          "height": 430
        },
        "id": "bf0ogxJPgPSW",
        "outputId": "33249749-39ab-4f07-c0c2-de06f46aeab4"
      },
      "execution_count": 80,
      "outputs": [
        {
          "output_type": "display_data",
          "data": {
            "text/plain": [
              "<Figure size 640x480 with 1 Axes>"
            ],
            "image/png": "[encoded data removed]"
          },
          "metadata": {}
        }
      ]
    },
    {
      "cell_type": "code",
      "source": [
        "plt.plot([i for i in range(3)],tr_f1_l)\n",
        "plt.plot([i for i in range(3)],val_f1_l)\n",
        "plt.show()"
      ],
      "metadata": {
        "colab": {
          "base_uri": "https://localhost:8080/",
          "height": 430
        },
        "id": "6sen3Z0_gaDU",
        "outputId": "104e7599-6af7-4ee8-872a-3d7961317a98"
      },
      "execution_count": 81,
      "outputs": [
        {
          "output_type": "display_data",
          "data": {
            "text/plain": [
              "<Figure size 640x480 with 1 Axes>"
            ],
            "image/png": "[encoded data removed]"
          },
          "metadata": {}
        }
      ]
    },
    {
      "cell_type": "code",
      "source": [
        "from sklearn.model_selection import train_test_split\n",
        "train_data=os.listdir(\"/content/drive/MyDrive/DL_project/TEST\")\n",
        "train_data.sort()\n",
        "train_data_2=[0,0,0,0,0]\n",
        "train_data_2[0]=train_data[1]\n",
        "train_data_2[1]=train_data[2]\n",
        "train_data_2[2]=train_data[0]\n",
        "train_data_2[3]=train_data[4]\n",
        "train_data_2[4]=train_data[3]\n",
        "all_paths=[]\n",
        "all_labels=[]\n",
        "for i,path in enumerate(train_data_2):\n",
        "    full_path=\"/content/drive/MyDrive/DL_project/TEST/\"+path+\"/\"\n",
        "    lst=os.listdir(full_path)\n",
        "    lst=[full_path+i for i in lst]\n",
        "    all_paths.extend(lst)\n",
        "    all_labels.extend([i for j in range(len(lst))])\n",
        "all_paths=np.array(all_paths)\n",
        "all_labels=np.array(all_labels)"
      ],
      "metadata": {
        "id": "4GbgrALUseP7"
      },
      "execution_count": 86,
      "outputs": []
    },
    {
      "cell_type": "code",
      "source": [
        "test_dataset=DataSet2(all_paths,all_labels,trans)\n",
        "test_loader=DataLoader(test_dataset,batch_size=12,shuffle=True)"
      ],
      "metadata": {
        "id": "vMoNOPZHseCJ"
      },
      "execution_count": 87,
      "outputs": []
    },
    {
      "cell_type": "code",
      "source": [
        "from sklearn.metrics import confusion_matrix, ConfusionMatrixDisplay\n",
        "model.eval()\n",
        "with torch.no_grad():\n",
        "    total_loss = 0\n",
        "    test_acc=0\n",
        "    test_prec=0\n",
        "    test_f1=0\n",
        "    testing_pred=None\n",
        "    testing_out=None\n",
        "    for i,(inputs, targets) in tqdm(enumerate(test_loader)):\n",
        "        outputs = model(inputs)\n",
        "        targets=targets.to(torch.long)\n",
        "        targets=targets.to('cpu')\n",
        "        outputs=outputs.to('cpu')\n",
        "        loss = criterion(outputs, targets)\n",
        "        total_loss += loss.item()\n",
        "        outputs=torch.argmax(outputs,dim=1)\n",
        "        test_acc+=get_acc(outputs,targets)\n",
        "        test_prec+=get_prec(outputs,targets)\n",
        "        test_f1+=get_f1(outputs,targets)\n",
        "        if(testing_pred is None):\n",
        "            testing_pred=np.array(outputs)\n",
        "            testing_out=np.array(targets)\n",
        "        else:\n",
        "            testing_pred=np.concatenate([testing_pred,np.array(outputs)],axis=0)\n",
        "            testing_out=np.concatenate([testing_out,np.array(targets)],axis=0)        \n",
        "    test_acc/=(i+1)\n",
        "    total_loss/=(i+1)\n",
        "    test_prec/=(i+1)\n",
        "    test_f1/=(i+1)\n",
        "    sen = f\"Testing ,Running Loss {total_loss} ,Accuracy:{test_acc},Precision:{test_prec},F1:{test_f1}\"\n",
        "    print(sen)\n",
        "    cm = confusion_matrix(testing_out,testing_pred, labels=[i for i in range(5)])\n",
        "    disp = ConfusionMatrixDisplay(confusion_matrix=cm,display_labels=[i for i in range(5)])\n",
        "    disp.plot()\n",
        "    plt.show()"
      ],
      "metadata": {
        "colab": {
          "base_uri": "https://localhost:8080/",
          "height": 485
        },
        "id": "TWIYdjWqr1hd",
        "outputId": "d8fcc36a-6802-46c5-96e5-6fcc55a2ab1e"
      },
      "execution_count": 88,
      "outputs": [
        {
          "output_type": "stream",
          "name": "stderr",
          "text": [
            "110it [12:54,  7.04s/it]\n"
          ]
        },
        {
          "output_type": "stream",
          "name": "stdout",
          "text": [
            "Testing ,Running Loss 1.0727346628904342 ,Accuracy:0.6393939393939392,Precision:0.4674790764790764,F1:0.4502988607747965\n"
          ]
        },
        {
          "output_type": "display_data",
          "data": {
            "text/plain": [
              "<Figure size 640x480 with 2 Axes>"
            ],
            "image/png": "[encoded data removed]"
          },
          "metadata": {}
        }
      ]
    },
    {
      "cell_type": "code",
      "source": [
        "from sklearn.metrics import cohen_kappa_score\n",
        "kappa = cohen_kappa_score(testing_out,testing_pred)\n",
        "print(\"Kappa score:\", kappa)"
      ],
      "metadata": {
        "colab": {
          "base_uri": "https://localhost:8080/"
        },
        "id": "ldMoiWPzsz0a",
        "outputId": "24114e6d-7101-4915-b5b2-3627f8b9a695"
      },
      "execution_count": 89,
      "outputs": [
        {
          "output_type": "stream",
          "name": "stdout",
          "text": [
            "Kappa score: 0.4852868126735902\n"
          ]
        }
      ]
    }
  ]
}