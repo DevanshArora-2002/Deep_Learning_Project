{
  "cells": [
    {
      "cell_type": "code",
      "execution_count": 5,
      "metadata": {
        "colab": {
          "base_uri": "https://localhost:8080/"
        },
        "id": "2eGqXdDEwp1j",
        "outputId": "ac5e3285-f3ca-421a-8f06-d71658ad8c26"
      },
      "outputs": [
        {
          "output_type": "stream",
          "name": "stdout",
          "text": [
            "Mounted at /content/drive\n"
          ]
        }
      ],
      "source": [
        "from google.colab import drive\n",
        "drive.mount(\"/content/drive\")"
      ]
    },
    {
      "cell_type": "code",
      "execution_count": 6,
      "metadata": {
        "id": "HOzD9g46vBKN"
      },
      "outputs": [],
      "source": [
        "import torch\n",
        "import torchvision\n",
        "import numpy as np\n",
        "import pandas as pd\n",
        "import matplotlib.pyplot as plt\n",
        "import cv2"
      ]
    },
    {
      "cell_type": "code",
      "execution_count": 7,
      "metadata": {
        "id": "orcqVLC9veSO"
      },
      "outputs": [],
      "source": [
        "device='cuda' if torch.cuda.is_available() else 'cpu'\n",
        "from torch.utils.data import Dataset\n",
        "from torchvision.transforms import ToTensor\n",
        "from torch.utils.data import DataLoader"
      ]
    },
    {
      "cell_type": "code",
      "execution_count": 8,
      "metadata": {
        "id": "f7m14WA2vfXS"
      },
      "outputs": [],
      "source": [
        "import torch.nn as nn\n",
        "import torch.nn.functional as F\n",
        "import os"
      ]
    },
    {
      "cell_type": "code",
      "execution_count": 9,
      "metadata": {
        "id": "xcHvjuSpvfVw"
      },
      "outputs": [],
      "source": [
        "import torchvision.transforms as transforms\n",
        "trans=transforms.Compose([\n",
        "    transforms.RandomAdjustSharpness(1),\n",
        "    transforms.RandomHorizontalFlip(p=0.5),\n",
        "    transforms.RandomRotation(degrees=15),\n",
        "    transforms.GaussianBlur(kernel_size=3, sigma=0.1)\n",
        "])"
      ]
    },
    {
      "cell_type": "code",
      "execution_count": 10,
      "metadata": {
        "id": "v8qi9WInvfT4"
      },
      "outputs": [],
      "source": [
        "from sklearn.model_selection import train_test_split\n",
        "train_data=os.listdir(\"/content/drive/MyDrive/DL_project/TRAIN\")\n",
        "all_paths=[]\n",
        "all_labels=[]\n",
        "for i,path in enumerate(train_data):\n",
        "    full_path=\"/content/drive/MyDrive/DL_project/TRAIN/\"+path+\"/\"\n",
        "    lst=os.listdir(full_path)\n",
        "    lst=[full_path+i for i in lst]\n",
        "    all_paths.extend(lst)\n",
        "    all_labels.extend([i for j in range(len(lst))])\n",
        "all_paths=np.array(all_paths)\n",
        "all_labels=np.array(all_labels)\n",
        "train_lst,val_lst,train_labels,val_labels=train_test_split(all_paths,all_labels,test_size=0.2)"
      ]
    },
    {
      "cell_type": "code",
      "execution_count": 11,
      "metadata": {
        "id": "cT1Ay_kivfRo"
      },
      "outputs": [],
      "source": [
        "class DataSet(Dataset):\n",
        "    def __init__(self,paths,labels,transform=None):\n",
        "        self.transform=transform\n",
        "        self.images_path=paths\n",
        "        self.labels=labels\n",
        "        if(transform is not None):\n",
        "            self.images_path=np.append(self.images_path,self.images_path)\n",
        "            self.labels=np.append(self.labels,self.labels)\n",
        "    def __len__(self):\n",
        "        return len(self.images_path)\n",
        "    def __getitem__(self,idx):\n",
        "        hf=len(self.images_path)/2\n",
        "        img=self.images_path[idx]\n",
        "        image=cv2.imread(img)\n",
        "        image=cv2.cvtColor(image, cv2.COLOR_BGR2RGB)\n",
        "        resized_image = cv2.resize(image,(299,299), interpolation=cv2.INTER_CUBIC)\n",
        "        resized_image=np.array(resized_image)\n",
        "        resized_image=torch.tensor(resized_image)\n",
        "        if(self.transform is not None):\n",
        "            half=len(self.images_path)/2\n",
        "            if(idx>=half):\n",
        "                resized_image=torch.reshape(resized_image,(3,299,299))\n",
        "                resized_image=self.transform(resized_image)\n",
        "                return self.transform(resized_image),self.labels[idx]\n",
        "        resized_image=torch.reshape(resized_image,(3,299,299))\n",
        "        return resized_image,self.labels[idx]"
      ]
    },
    {
      "cell_type": "code",
      "execution_count": 12,
      "metadata": {
        "id": "AMAJnNnDvfPW"
      },
      "outputs": [],
      "source": [
        "train_dataset=DataSet(train_lst,train_labels,trans)\n",
        "val_dataset=DataSet(val_lst,val_labels,trans)\n",
        "train_dataloader=DataLoader(train_dataset,batch_size=12,shuffle=True)\n",
        "val_dataloader=DataLoader(val_dataset,batch_size=12,shuffle=True)"
      ]
    },
    {
      "cell_type": "code",
      "execution_count": 13,
      "metadata": {
        "id": "LTp-GiXbvfJ5"
      },
      "outputs": [],
      "source": [
        "import torchvision\n",
        "from torchvision.models import vgg16\n",
        "import warnings\n",
        "warnings.filterwarnings(\"ignore\")\n",
        "class VGG16(nn.Module):\n",
        "    def __init__(self):\n",
        "        super().__init__()\n",
        "        self.res=vgg16().to(device)\n",
        "        for param in self.res.parameters():\n",
        "            param.requires_grad=False\n",
        "        self.l1=nn.Linear(1000,5).to(device)\n",
        "    def forward(self,x):\n",
        "        x=x.to(torch.float32)\n",
        "        x=x.to(device)\n",
        "        x=self.res(x)\n",
        "        x=self.l1(x)\n",
        "        x=torch.nn.functional.softmax(x, dim=1)\n",
        "        return x"
      ]
    },
    {
      "cell_type": "code",
      "execution_count": 14,
      "metadata": {
        "id": "crEcrAAdvfIA"
      },
      "outputs": [],
      "source": [
        "from sklearn.metrics import accuracy_score,precision_score,f1_score\n",
        "def get_acc(pred,out):\n",
        "    arr=pred.to('cpu').detach()\n",
        "    arr=np.array(arr)\n",
        "    arr2=out.to('cpu').detach()\n",
        "    arr2=np.array(arr2)\n",
        "    return accuracy_score(arr,arr2)\n",
        "def get_prec(pred,out):\n",
        "    arr=pred.to('cpu').detach()\n",
        "    arr=np.array(arr)\n",
        "    arr2=out.to('cpu').detach()\n",
        "    arr2=np.array(arr2)\n",
        "    return precision_score(arr,arr2,average='macro')\n",
        "def get_f1(pred,out):\n",
        "    arr=pred.to('cpu').detach()\n",
        "    arr=np.array(arr)\n",
        "    arr2=out.to('cpu').detach()\n",
        "    arr2=np.array(arr2)\n",
        "    return f1_score(arr,arr2,average='macro')"
      ]
    },
    {
      "cell_type": "code",
      "execution_count": 15,
      "metadata": {
        "id": "6jPzo08ewVJV"
      },
      "outputs": [],
      "source": [
        "from tqdm import tqdm"
      ]
    },
    {
      "cell_type": "code",
      "execution_count": 16,
      "metadata": {
        "id": "2XVEsohVvfF4"
      },
      "outputs": [],
      "source": [
        "def train(model,train_dataloader,epochs,optimizer,criterion,val_loader):\n",
        "    tr_acc_l=[]\n",
        "    tr_loss_l=[]\n",
        "    tr_prec_l=[]\n",
        "    tr_f1_l=[]\n",
        "    val_acc_l=[]\n",
        "    val_prec_l=[]\n",
        "    val_f1_l=[]\n",
        "    val_loss_l=[]\n",
        "    for ep in range(epochs):  \n",
        "        model.train()\n",
        "        running_loss = 0.0\n",
        "        tr_acc=0\n",
        "        tr_prec=0\n",
        "        tr_f1=0\n",
        "        for i,data in tqdm(enumerate(train_dataloader)):\n",
        "            inputs, labels = data\n",
        "            optimizer.zero_grad()\n",
        "            outputs = model(inputs)\n",
        "            outputs=outputs.to('cpu')\n",
        "            labels=labels.to(torch.long)\n",
        "            loss = criterion(outputs, labels)\n",
        "            loss.backward()\n",
        "            optimizer.step()\n",
        "            running_loss+=loss.item()\n",
        "            outputs=torch.argmax(outputs,dim=1)\n",
        "            tr_acc+=get_acc(outputs,labels)\n",
        "            tr_prec+=get_prec(outputs,labels)\n",
        "            tr_f1+=get_f1(outputs,labels)\n",
        "            if(i%25==0):\n",
        "                sen = f\"Training Epochs:{ep} Mini Batch {i+1},Running Loss {running_loss/(i+1)} ,Accuracy:{tr_acc/(i+1)},Precision:{tr_prec/(i+1)},F1:{tr_f1/(i+1)}\"\n",
        "                print(sen)\n",
        "        running_loss/=(i+1)\n",
        "        tr_acc=tr_acc/(i+1)\n",
        "        tr_prec=tr_prec/(i+1)\n",
        "        tr_f1=tr_f1/(i+1)\n",
        "        sen = f\"Training Epochs:{ep},Running Loss {running_loss} ,Accuracy:{tr_acc},Precision:{tr_prec},F1:{tr_f1}\"\n",
        "        print(sen)\n",
        "        tr_acc_l.append(tr_acc)\n",
        "        tr_prec_l.append(tr_prec)\n",
        "        tr_f1_l.append(tr_f1)\n",
        "        tr_loss_l.append(running_loss)\n",
        "        model.eval()\n",
        "        with torch.no_grad():\n",
        "            total_loss = 0\n",
        "            val_acc=0\n",
        "            val_prec=0\n",
        "            val_f1=0\n",
        "            for i,(inputs, targets) in tqdm(enumerate(val_loader)):\n",
        "                outputs = model(inputs)\n",
        "                targets=targets.to(torch.long)\n",
        "                targets=targets.to('cpu')\n",
        "                outputs=outputs.to('cpu')\n",
        "                loss = criterion(outputs, targets)\n",
        "                total_loss += loss.item()\n",
        "                outputs=torch.argmax(outputs,dim=1)\n",
        "                val_acc+=get_acc(outputs,targets)\n",
        "                val_prec+=get_prec(outputs,targets)\n",
        "                val_f1+=get_f1(outputs,targets)\n",
        "                if(i%25==0):\n",
        "                    sen = f\"Validation Epochs:{ep} Mini Batch {i+1},Running Loss {total_loss/(i+1)} ,Accuracy:{val_acc/(i+1)},Precision:{val_prec/(i+1)},F1:{val_f1/(i+1)}\"\n",
        "                    print(sen)\n",
        "            val_acc/=(i+1)\n",
        "            total_loss/=(i+1)\n",
        "            val_prec/=(i+1)\n",
        "            val_f1/=(i+1)\n",
        "            sen = f\"Validation Epochs:{ep},Running Loss {total_loss} ,Accuracy:{val_acc},Precision:{val_prec},F1:{val_f1}\"\n",
        "            print(sen)\n",
        "            val_acc_l.append(val_acc)\n",
        "            val_prec_l.append(val_prec)\n",
        "            val_f1_l.append(val_f1)\n",
        "            val_loss_l.append(total_loss)\n",
        "    return tr_acc_l,tr_prec_l,tr_f1_l,tr_loss_l,val_acc_l,val_prec_l,val_f1_l,val_loss_l       "
      ]
    },
    {
      "cell_type": "code",
      "execution_count": 17,
      "metadata": {
        "id": "wJY7MsP1vfEC"
      },
      "outputs": [],
      "source": [
        "import torch.optim as optim\n",
        "model=VGG16()\n",
        "criterion = nn.CrossEntropyLoss()\n",
        "optimizer = optim.Adam(model.parameters(), lr = 0.001)"
      ]
    },
    {
      "cell_type": "code",
      "execution_count": 18,
      "metadata": {
        "colab": {
          "base_uri": "https://localhost:8080/"
        },
        "id": "-y5xuevnwR50",
        "outputId": "e669234f-f16e-4b60-cf6c-08cd1f2b0a12"
      },
      "outputs": [
        {
          "output_type": "stream",
          "name": "stderr",
          "text": [
            "1it [00:18, 18.95s/it]"
          ]
        },
        {
          "output_type": "stream",
          "name": "stdout",
          "text": [
            "Training Epochs:0 Mini Batch 1,Running Loss 1.69816255569458 ,Accuracy:0.16666666666666666,Precision:0.24,F1:0.11111111111111112\n"
          ]
        },
        {
          "output_type": "stream",
          "name": "stderr",
          "text": [
            "26it [04:21,  8.67s/it]"
          ]
        },
        {
          "output_type": "stream",
          "name": "stdout",
          "text": [
            "Training Epochs:0 Mini Batch 26,Running Loss 1.6193299706165607 ,Accuracy:0.2820512820512821,Precision:0.2141666666666667,F1:0.1105042154929033\n"
          ]
        },
        {
          "output_type": "stream",
          "name": "stderr",
          "text": [
            "51it [07:42,  7.44s/it]"
          ]
        },
        {
          "output_type": "stream",
          "name": "stdout",
          "text": [
            "Training Epochs:0 Mini Batch 51,Running Loss 1.6036422930511773 ,Accuracy:0.2973856209150327,Precision:0.21604575163398684,F1:0.11092336280917592\n"
          ]
        },
        {
          "output_type": "stream",
          "name": "stderr",
          "text": [
            "76it [10:09,  5.68s/it]"
          ]
        },
        {
          "output_type": "stream",
          "name": "stdout",
          "text": [
            "Training Epochs:0 Mini Batch 76,Running Loss 1.6149131624322188 ,Accuracy:0.2872807017543859,Precision:0.22019736842105248,F1:0.10663174169447587\n"
          ]
        },
        {
          "output_type": "stream",
          "name": "stderr",
          "text": [
            "101it [11:22,  2.44s/it]"
          ]
        },
        {
          "output_type": "stream",
          "name": "stdout",
          "text": [
            "Training Epochs:0 Mini Batch 101,Running Loss 1.606641919306009 ,Accuracy:0.2962046204620462,Precision:0.22047854785478524,F1:0.10661175305092162\n"
          ]
        },
        {
          "output_type": "stream",
          "name": "stderr",
          "text": [
            "111it [11:40,  6.31s/it]\n"
          ]
        },
        {
          "output_type": "stream",
          "name": "stdout",
          "text": [
            "Training Epochs:0,Running Loss 1.6097231824118812 ,Accuracy:0.29354354354354356,Precision:0.21683183183183158,F1:0.10481893607280592\n"
          ]
        },
        {
          "output_type": "stream",
          "name": "stderr",
          "text": [
            "1it [00:12, 12.06s/it]"
          ]
        },
        {
          "output_type": "stream",
          "name": "stdout",
          "text": [
            "Validation Epochs:0 Mini Batch 1,Running Loss 1.6546980142593384 ,Accuracy:0.25,Precision:0.2,F1:0.08\n"
          ]
        },
        {
          "output_type": "stream",
          "name": "stderr",
          "text": [
            "26it [02:49,  2.65s/it]"
          ]
        },
        {
          "output_type": "stream",
          "name": "stdout",
          "text": [
            "Validation Epochs:0 Mini Batch 26,Running Loss 1.593922761770395 ,Accuracy:0.3108974358974359,Precision:0.24679487179487183,F1:0.11703889248006896\n"
          ]
        },
        {
          "output_type": "stream",
          "name": "stderr",
          "text": [
            "28it [02:53,  6.20s/it]\n"
          ]
        },
        {
          "output_type": "stream",
          "name": "stdout",
          "text": [
            "Validation Epochs:0,Running Loss 1.5967853495052882 ,Accuracy:0.3080357142857143,Precision:0.25000000000000006,F1:0.11772349849030524\n"
          ]
        },
        {
          "output_type": "stream",
          "name": "stderr",
          "text": [
            "1it [00:01,  1.18s/it]"
          ]
        },
        {
          "output_type": "stream",
          "name": "stdout",
          "text": [
            "Training Epochs:1 Mini Batch 1,Running Loss 1.3214993476867676 ,Accuracy:0.5833333333333334,Precision:0.25,F1:0.18421052631578946\n"
          ]
        },
        {
          "output_type": "stream",
          "name": "stderr",
          "text": [
            "26it [00:35,  1.35s/it]"
          ]
        },
        {
          "output_type": "stream",
          "name": "stdout",
          "text": [
            "Training Epochs:1 Mini Batch 26,Running Loss 1.5875255740605867 ,Accuracy:0.31730769230769224,Precision:0.23461538461538467,F1:0.11332630436166993\n"
          ]
        },
        {
          "output_type": "stream",
          "name": "stderr",
          "text": [
            "51it [01:11,  1.40s/it]"
          ]
        },
        {
          "output_type": "stream",
          "name": "stdout",
          "text": [
            "Training Epochs:1 Mini Batch 51,Running Loss 1.5992774238773422 ,Accuracy:0.3055555555555555,Precision:0.2330065359477123,F1:0.10864558366015295\n"
          ]
        },
        {
          "output_type": "stream",
          "name": "stderr",
          "text": [
            "76it [01:46,  1.42s/it]"
          ]
        },
        {
          "output_type": "stream",
          "name": "stdout",
          "text": [
            "Training Epochs:1 Mini Batch 76,Running Loss 1.605489980233343 ,Accuracy:0.29934210526315796,Precision:0.22785087719298228,F1:0.1049447766534698\n"
          ]
        },
        {
          "output_type": "stream",
          "name": "stderr",
          "text": [
            "101it [02:22,  1.52s/it]"
          ]
        },
        {
          "output_type": "stream",
          "name": "stdout",
          "text": [
            "Training Epochs:1 Mini Batch 101,Running Loss 1.6069684359106686 ,Accuracy:0.29785478547854793,Precision:0.2297029702970295,F1:0.10498006754712139\n"
          ]
        },
        {
          "output_type": "stream",
          "name": "stderr",
          "text": [
            "111it [02:34,  1.39s/it]\n"
          ]
        },
        {
          "output_type": "stream",
          "name": "stdout",
          "text": [
            "Training Epochs:1,Running Loss 1.602275193274558 ,Accuracy:0.30255255255255264,Precision:0.23198198198198175,F1:0.10770029155478063\n"
          ]
        },
        {
          "output_type": "stream",
          "name": "stderr",
          "text": [
            "1it [00:01,  1.43s/it]"
          ]
        },
        {
          "output_type": "stream",
          "name": "stdout",
          "text": [
            "Validation Epochs:1 Mini Batch 1,Running Loss 1.4881659746170044 ,Accuracy:0.4166666666666667,Precision:0.25,F1:0.14705882352941177\n"
          ]
        },
        {
          "output_type": "stream",
          "name": "stderr",
          "text": [
            "26it [00:36,  1.37s/it]"
          ]
        },
        {
          "output_type": "stream",
          "name": "stdout",
          "text": [
            "Validation Epochs:1 Mini Batch 26,Running Loss 1.6035469541182885 ,Accuracy:0.30128205128205116,Precision:0.2461538461538462,F1:0.11831401656479058\n"
          ]
        },
        {
          "output_type": "stream",
          "name": "stderr",
          "text": [
            "28it [00:39,  1.41s/it]\n"
          ]
        },
        {
          "output_type": "stream",
          "name": "stdout",
          "text": [
            "Validation Epochs:1,Running Loss 1.5967935451439448 ,Accuracy:0.30803571428571414,Precision:0.24761904761904766,F1:0.12076192039814333\n"
          ]
        },
        {
          "output_type": "stream",
          "name": "stderr",
          "text": [
            "1it [00:01,  1.55s/it]"
          ]
        },
        {
          "output_type": "stream",
          "name": "stdout",
          "text": [
            "Training Epochs:2 Mini Batch 1,Running Loss 1.7381659746170044 ,Accuracy:0.16666666666666666,Precision:0.2,F1:0.05714285714285714\n"
          ]
        },
        {
          "output_type": "stream",
          "name": "stderr",
          "text": [
            "26it [00:36,  1.44s/it]"
          ]
        },
        {
          "output_type": "stream",
          "name": "stdout",
          "text": [
            "Training Epochs:2 Mini Batch 26,Running Loss 1.6035485771986155 ,Accuracy:0.30128205128205127,Precision:0.23974358974358978,F1:0.10994012397858553\n"
          ]
        },
        {
          "output_type": "stream",
          "name": "stderr",
          "text": [
            "51it [01:10,  1.42s/it]"
          ]
        },
        {
          "output_type": "stream",
          "name": "stdout",
          "text": [
            "Training Epochs:2 Mini Batch 51,Running Loss 1.5894729319740744 ,Accuracy:0.315359477124183,Precision:0.23529411764705876,F1:0.11191954911678094\n"
          ]
        },
        {
          "output_type": "stream",
          "name": "stderr",
          "text": [
            "76it [01:45,  1.46s/it]"
          ]
        },
        {
          "output_type": "stream",
          "name": "stdout",
          "text": [
            "Training Epochs:2 Mini Batch 76,Running Loss 1.5978144328845174 ,Accuracy:0.30701754385964913,Precision:0.2280701754385964,F1:0.10954784680403874\n"
          ]
        },
        {
          "output_type": "stream",
          "name": "stderr",
          "text": [
            "101it [02:20,  1.32s/it]"
          ]
        },
        {
          "output_type": "stream",
          "name": "stdout",
          "text": [
            "Training Epochs:2 Mini Batch 101,Running Loss 1.6012017573460493 ,Accuracy:0.3036303630363036,Precision:0.23052805280528033,F1:0.10916221979766098\n"
          ]
        },
        {
          "output_type": "stream",
          "name": "stderr",
          "text": [
            "111it [02:33,  1.39s/it]\n"
          ]
        },
        {
          "output_type": "stream",
          "name": "stdout",
          "text": [
            "Training Epochs:2,Running Loss 1.606033343452591 ,Accuracy:0.2987987987987988,Precision:0.22597597597597577,F1:0.10683742838541592\n"
          ]
        },
        {
          "output_type": "stream",
          "name": "stderr",
          "text": [
            "1it [00:01,  1.70s/it]"
          ]
        },
        {
          "output_type": "stream",
          "name": "stdout",
          "text": [
            "Validation Epochs:2 Mini Batch 1,Running Loss 1.5714993476867676 ,Accuracy:0.3333333333333333,Precision:0.25,F1:0.125\n"
          ]
        },
        {
          "output_type": "stream",
          "name": "stderr",
          "text": [
            "26it [00:37,  1.31s/it]"
          ]
        },
        {
          "output_type": "stream",
          "name": "stdout",
          "text": [
            "Validation Epochs:2 Mini Batch 26,Running Loss 1.6035473346710205 ,Accuracy:0.3012820512820513,Precision:0.22948717948717953,F1:0.10974121403985657\n"
          ]
        },
        {
          "output_type": "stream",
          "name": "stderr",
          "text": [
            "28it [00:39,  1.42s/it]\n"
          ]
        },
        {
          "output_type": "stream",
          "name": "stdout",
          "text": [
            "Validation Epochs:2,Running Loss 1.5938177151339394 ,Accuracy:0.31101190476190477,Precision:0.23214285714285718,F1:0.11391720790880454\n"
          ]
        },
        {
          "output_type": "stream",
          "name": "stderr",
          "text": [
            "1it [00:01,  1.11s/it]"
          ]
        },
        {
          "output_type": "stream",
          "name": "stdout",
          "text": [
            "Training Epochs:3 Mini Batch 1,Running Loss 1.4048327207565308 ,Accuracy:0.5,Precision:0.2,F1:0.13333333333333333\n"
          ]
        },
        {
          "output_type": "stream",
          "name": "stderr",
          "text": [
            "26it [00:35,  1.54s/it]"
          ]
        },
        {
          "output_type": "stream",
          "name": "stdout",
          "text": [
            "Training Epochs:3 Mini Batch 26,Running Loss 1.5875242260786204 ,Accuracy:0.3173076923076923,Precision:0.21987179487179492,F1:0.10376261747302475\n"
          ]
        },
        {
          "output_type": "stream",
          "name": "stderr",
          "text": [
            "51it [01:11,  1.44s/it]"
          ]
        },
        {
          "output_type": "stream",
          "name": "stdout",
          "text": [
            "Training Epochs:3 Mini Batch 51,Running Loss 1.617250313945845 ,Accuracy:0.28758169934640526,Precision:0.22712418300653586,F1:0.09777183287381792\n"
          ]
        },
        {
          "output_type": "stream",
          "name": "stderr",
          "text": [
            "76it [01:46,  1.44s/it]"
          ]
        },
        {
          "output_type": "stream",
          "name": "stdout",
          "text": [
            "Training Epochs:3 Mini Batch 76,Running Loss 1.6252266890124272 ,Accuracy:0.2796052631578948,Precision:0.2269736842105262,F1:0.09717219414934092\n"
          ]
        },
        {
          "output_type": "stream",
          "name": "stderr",
          "text": [
            "101it [02:21,  1.44s/it]"
          ]
        },
        {
          "output_type": "stream",
          "name": "stdout",
          "text": [
            "Training Epochs:3 Mini Batch 101,Running Loss 1.6086273712686974 ,Accuracy:0.29620462046204626,Precision:0.23036303630363017,F1:0.10340527857433099\n"
          ]
        },
        {
          "output_type": "stream",
          "name": "stderr",
          "text": [
            "111it [02:34,  1.39s/it]\n"
          ]
        },
        {
          "output_type": "stream",
          "name": "stdout",
          "text": [
            "Training Epochs:3,Running Loss 1.60603315443606 ,Accuracy:0.2987987987987989,Precision:0.22882882882882863,F1:0.1039611788837794\n"
          ]
        },
        {
          "output_type": "stream",
          "name": "stderr",
          "text": [
            "1it [00:01,  1.20s/it]"
          ]
        },
        {
          "output_type": "stream",
          "name": "stdout",
          "text": [
            "Validation Epochs:3 Mini Batch 1,Running Loss 1.6548327207565308 ,Accuracy:0.25,Precision:0.3333333333333333,F1:0.13333333333333333\n"
          ]
        },
        {
          "output_type": "stream",
          "name": "stderr",
          "text": [
            "26it [00:36,  1.48s/it]"
          ]
        },
        {
          "output_type": "stream",
          "name": "stdout",
          "text": [
            "Validation Epochs:3 Mini Batch 26,Running Loss 1.5875228643417358 ,Accuracy:0.3173076923076923,Precision:0.24807692307692306,F1:0.11551942421316085\n"
          ]
        },
        {
          "output_type": "stream",
          "name": "stderr",
          "text": [
            "28it [00:39,  1.42s/it]"
          ]
        },
        {
          "output_type": "stream",
          "name": "stdout",
          "text": [
            "Validation Epochs:3,Running Loss 1.5997696263449532 ,Accuracy:0.3050595238095238,Precision:0.2464285714285714,F1:0.1114063587648285\n"
          ]
        },
        {
          "output_type": "stream",
          "name": "stderr",
          "text": [
            "\n"
          ]
        }
      ],
      "source": [
        "lst=train(model,train_dataloader,4,optimizer,criterion,val_dataloader)"
      ]
    },
    {
      "cell_type": "code",
      "execution_count": 24,
      "metadata": {
        "id": "x1elIB5JwiP6",
        "colab": {
          "base_uri": "https://localhost:8080/",
          "height": 484
        },
        "outputId": "db85a8c5-60e2-44dd-9368-5a4ec088c82e"
      },
      "outputs": [
        {
          "output_type": "stream",
          "name": "stderr",
          "text": [
            "110it [02:31,  1.37s/it]\n"
          ]
        },
        {
          "output_type": "stream",
          "name": "stdout",
          "text": [
            "Testing ,Running Loss 1.5567259907722473 ,Accuracy:0.3481060606060606,Precision:0.2822727272727271,F1:0.14339001715050112\n"
          ]
        },
        {
          "output_type": "display_data",
          "data": {
            "text/plain": [
              "<Figure size 640x480 with 2 Axes>"
            ],
            "image/png": "[encoded data removed]"
          },
          "metadata": {}
        }
      ],
      "source": [
        "from sklearn.model_selection import train_test_split\n",
        "train_data=os.listdir(\"/content/drive/MyDrive/DL_project/TRAIN\")\n",
        "all_paths=[]\n",
        "all_labels=[]\n",
        "for i,path in enumerate(train_data):\n",
        "    full_path=\"/content/drive/MyDrive/DL_project/TEST/\"+\"TEST_\"+path[-1]+\"/\"\n",
        "    lst=os.listdir(full_path)\n",
        "    lst=[full_path+i for i in lst]\n",
        "    all_paths.extend(lst)\n",
        "    all_labels.extend([i for j in range(len(lst))])\n",
        "all_paths=np.array(all_paths)\n",
        "all_labels=np.array(all_labels)\n",
        "test_dataset=DataSet(all_paths,all_labels,trans)\n",
        "test_loader=DataLoader(test_dataset,batch_size=12,shuffle=True)\n",
        "from sklearn.metrics import confusion_matrix, ConfusionMatrixDisplay\n",
        "model.eval()\n",
        "with torch.no_grad():\n",
        "    total_loss = 0\n",
        "    test_acc=0\n",
        "    test_prec=0\n",
        "    test_f1=0\n",
        "    testing_pred=None\n",
        "    testing_out=None\n",
        "    for i,(inputs, targets) in tqdm(enumerate(test_loader)):\n",
        "        outputs = model(inputs)\n",
        "        targets=targets.to(torch.long)\n",
        "        targets=targets.to('cpu')\n",
        "        outputs=outputs.to('cpu')\n",
        "        loss = criterion(outputs, targets)\n",
        "        total_loss += loss.item()\n",
        "        outputs=torch.argmax(outputs,dim=1)\n",
        "        test_acc+=get_acc(outputs,targets)\n",
        "        test_prec+=get_prec(outputs,targets)\n",
        "        test_f1+=get_f1(outputs,targets)\n",
        "        if(testing_pred is None):\n",
        "            testing_pred=np.array(outputs)\n",
        "            testing_out=np.array(targets)\n",
        "        else:\n",
        "            testing_pred=np.concatenate([testing_pred,np.array(outputs)],axis=0)\n",
        "            testing_out=np.concatenate([testing_out,np.array(targets)],axis=0)        \n",
        "    test_acc/=(i+1)\n",
        "    total_loss/=(i+1)\n",
        "    test_prec/=(i+1)\n",
        "    test_f1/=(i+1)\n",
        "    sen = f\"Testing ,Running Loss {total_loss} ,Accuracy:{test_acc},Precision:{test_prec},F1:{test_f1}\"\n",
        "    print(sen)\n",
        "    cm = confusion_matrix(testing_out,testing_pred, labels=[i for i in range(5)])\n",
        "    disp = ConfusionMatrixDisplay(confusion_matrix=cm,display_labels=[i for i in range(5)])\n",
        "    disp.plot()\n",
        "    plt.show()"
      ]
    },
    {
      "cell_type": "code",
      "execution_count": 27,
      "metadata": {
        "id": "Pb7v6o--xlEa",
        "colab": {
          "base_uri": "https://localhost:8080/"
        },
        "outputId": "f636b57d-e5c0-42ec-ae66-f93482064fdb"
      },
      "outputs": [
        {
          "output_type": "stream",
          "name": "stdout",
          "text": [
            "Kappa score: 0.0\n"
          ]
        }
      ],
      "source": [
        "from sklearn.metrics import cohen_kappa_score\n",
        "kappa = cohen_kappa_score(testing_out,testing_pred)\n",
        "print(\"Kappa score:\", kappa)"
      ]
    },
    {
      "cell_type": "code",
      "source": [],
      "metadata": {
        "id": "I1eREMzaNfe4"
      },
      "execution_count": null,
      "outputs": []
    }
  ],
  "metadata": {
    "accelerator": "GPU",
    "colab": {
      "machine_shape": "hm",
      "provenance": []
    },
    "gpuClass": "standard",
    "kernelspec": {
      "display_name": "Python 3",
      "name": "python3"
    },
    "language_info": {
      "name": "python"
    }
  },
  "nbformat": 4,
  "nbformat_minor": 0
}